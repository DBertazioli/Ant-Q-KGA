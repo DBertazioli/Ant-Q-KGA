{
 "cells": [
  {
   "cell_type": "code",
   "execution_count": 3,
   "metadata": {},
   "outputs": [],
   "source": [
    "import numpy as np\n",
    "import random\n",
    "import operator \n",
    "import pandas as pd \n",
    "import matplotlib.pyplot as plt\n",
    "import math"
   ]
  },
  {
   "cell_type": "code",
   "execution_count": 4,
   "metadata": {},
   "outputs": [],
   "source": [
    "def routeFitness(route, dm):\n",
    "    dist = 0\n",
    "    for i in range(len(route)-1):\n",
    "        dist += dm[route[i], route[i+1]]\n",
    "    dist += dm[route[-1], route[0]]\n",
    "    fitness = 1/dist\n",
    "    \n",
    "    return fitness"
   ]
  },
  {
   "cell_type": "code",
   "execution_count": 5,
   "metadata": {},
   "outputs": [],
   "source": [
    "def dist_matrix(df):\n",
    "    list_of_distances = [] # just to make it simple, probably there are 1k better ways to do this\n",
    "    for point in df.itertuples():\n",
    "        a = point[1]\n",
    "        b = point[2]\n",
    "        for point_s in df.itertuples():\n",
    "            c = point_s[1]\n",
    "            d = point_s[2]\n",
    "            dist = math.sqrt(((c-a)**2) + ((d-b)**2))\n",
    "            list_of_distances.append(dist)\n",
    "    dist_matrix = np.array(list_of_distances) # convertion to array\n",
    "    dist_matrix = np.reshape(dist_matrix, (len(df), len(df))) # reshaping\n",
    "    # dist_matrix.shape # check\n",
    "    return dist_matrix"
   ]
  },
  {
   "cell_type": "code",
   "execution_count": 6,
   "metadata": {},
   "outputs": [],
   "source": [
    "def initPopulation(popSize, cities):\n",
    "    population = []\n",
    "    [population.append(random.sample(cities, len(cities))) for i in range(0, popSize)]\n",
    "#     for i in range(0, popSize):\n",
    "#         population.append(createRoute(cityList))\n",
    "    return population"
   ]
  },
  {
   "cell_type": "code",
   "execution_count": 7,
   "metadata": {},
   "outputs": [],
   "source": [
    "# bays29 opti 1610\n",
    "# berlin52 opti 7542\n",
    "\n",
    "df = pd.read_csv(\"berlin52.tsp\", header=None, sep = \" \", names = ['x', 'y'], index_col = 0)\n",
    "df.head()\n",
    "cities = []\n",
    "cities = list(range(len(df)))\n",
    "d_matrix = dist_matrix(df)"
   ]
  },
  {
   "cell_type": "code",
   "execution_count": 45,
   "metadata": {},
   "outputs": [],
   "source": [
    "def GenA(permutation, dm, popSize, elite_n, mutation_r, n_of_gen, opti):\n",
    "    \n",
    "    pop = initPopulation(popSize, permutation)\n",
    "    fitness = {}\n",
    "    [fitness.update({i:routeFitness(pop[i], dm)}) for i in range(0,len(pop))]\n",
    "    rankedRoutes = sorted(fitness.items(), key = operator.itemgetter(1), reverse = True)\n",
    "    print(\"-------------------------------------\")\n",
    "    print(\"Initial distance: \" + str(1 / rankedRoutes[0][1]))\n",
    "    \n",
    "    for k in range(0, n_of_gen):\n",
    "        \n",
    "        ##################\n",
    "        # Ranking routes #\n",
    "        ##################\n",
    "        \n",
    "        fitness = {}\n",
    "        [fitness.update({i:routeFitness(pop[i], dm)}) for i in range(0,len(pop))]\n",
    "        rankedRoutes = sorted(fitness.items(), key = lambda kv: kv[1], reverse = True)\n",
    "\n",
    "        #############\n",
    "        # selection #\n",
    "        #############\n",
    "        \n",
    "        selectionR = []\n",
    "        df = pd.DataFrame(np.array(rankedRoutes), columns=[\"Index\",\"Fitness\"])\n",
    "        df['cum_sum'] = df.Fitness.cumsum()\n",
    "        df['cum_perc'] = 100*df.cum_sum/df.Fitness.sum()\n",
    "        \n",
    "        [selectionR.append(rankedRoutes[i][0]) for i in range(0, elite_n)]\n",
    "        \n",
    "        for i in range(0, len(rankedRoutes) - elite_n):\n",
    "            pick = 100*random.random()\n",
    "            for i in range(0, len(rankedRoutes)):\n",
    "                if pick <= df.iat[i,3]:\n",
    "                    selectionR.append(rankedRoutes[i][0])\n",
    "                    break  \n",
    "        \n",
    "        ###############\n",
    "        # mating pool #\n",
    "        ###############\n",
    "        \n",
    "        mp = []\n",
    "        [mp.append(pop[selectionR[i]]) for i in range(0, len(selectionR))]\n",
    "\n",
    "        #############\n",
    "        # Crossover #\n",
    "        #############\n",
    "        \n",
    "        children = []\n",
    "        length = (len(mp) - elite_n)\n",
    "        pool = random.sample(mp, len(mp))\n",
    "        [children.append(mp[i]) for i in range(0, elite_n)]\n",
    "        \n",
    "        for i in range(0, length):\n",
    "            parent1 = pool[i]\n",
    "            parent2 = pool[len(mp)-i-1]\n",
    "            child = []\n",
    "            childP1 = []\n",
    "            childP2 = []\n",
    "    \n",
    "            geneA = int(random.random() * len(parent1))\n",
    "            geneB = int(random.random() * len(parent1))\n",
    "            \n",
    "            startGene = min(geneA, geneB)\n",
    "            endGene = max(geneA, geneB)\n",
    "            [childP1.append(parent1[i]) for i in range(startGene, endGene)]\n",
    "            childP2 = [item for item in parent2 if item not in childP1]\n",
    "            \n",
    "            child = childP1 + childP2\n",
    "            children.append(child)\n",
    "        \n",
    "        ############\n",
    "        # mutation #\n",
    "        ############\n",
    "        \n",
    "        mutatedPop = []\n",
    "    \n",
    "        for ind in range(0, len(children)):\n",
    "            individual = children[ind]\n",
    "            for swapped in range(len(individual)):\n",
    "                if(random.random() < mutation_r):\n",
    "                    swapWith = int(random.random() * len(individual))\n",
    "            \n",
    "                    city1 = individual[swapped]\n",
    "                    city2 = individual[swapWith]\n",
    "            \n",
    "                    individual[swapped] = city2\n",
    "                    individual[swapWith] = city1\n",
    "            mutatedPop.append(individual)\n",
    "        \n",
    "        ##############\n",
    "        # update pop #\n",
    "        ##############\n",
    "        \n",
    "        pop = mutatedPop\n",
    "        \n",
    "    \n",
    "    \n",
    "    ###########\n",
    "    # results #\n",
    "    ###########\n",
    "    \n",
    "    fitness = {}\n",
    "    [fitness.update({i:routeFitness(pop[i], dm)}) for i in range(0,len(pop))]\n",
    "    rankedRoutes = sorted(fitness.items(), key = lambda kv: kv[1], reverse = True)\n",
    "    print(\"#####################################\")\n",
    "    print(\"Final distance: \" + str(1 / rankedRoutes[0][1]))\n",
    "    print(\"#####################################\")\n",
    "    result = str(((1/rankedRoutes[0][1] - opti)/opti)*100)\n",
    "    print(\"Solution is {} of optimum\".format(str(((1/rankedRoutes[0][1] - opti)/opti)*100)))\n",
    "    print(\"-------------------------------------\")"
   ]
  },
  {
   "cell_type": "code",
   "execution_count": 46,
   "metadata": {},
   "outputs": [
    {
     "name": "stdout",
     "output_type": "stream",
     "text": [
      "-------------------------------------\n",
      "Initial distance: 25540.787412884998\n",
      "#####################################\n",
      "Final distance: 15814.569493562243\n",
      "#####################################\n",
      "Solution is 109.68668116629863 of optimum\n",
      "-------------------------------------\n"
     ]
    }
   ],
   "source": [
    "GenA(permutation = cities, popSize = 200, dm = d_matrix, elite_n = 30, mutation_r = 0.01, n_of_gen = 100, opti = 7542)"
   ]
  },
  {
   "cell_type": "code",
   "execution_count": null,
   "metadata": {},
   "outputs": [],
   "source": []
  },
  {
   "cell_type": "code",
   "execution_count": null,
   "metadata": {},
   "outputs": [],
   "source": []
  },
  {
   "cell_type": "code",
   "execution_count": null,
   "metadata": {},
   "outputs": [],
   "source": []
  },
  {
   "cell_type": "code",
   "execution_count": null,
   "metadata": {},
   "outputs": [],
   "source": []
  },
  {
   "cell_type": "code",
   "execution_count": null,
   "metadata": {},
   "outputs": [],
   "source": []
  },
  {
   "cell_type": "code",
   "execution_count": null,
   "metadata": {},
   "outputs": [],
   "source": []
  }
 ],
 "metadata": {
  "kernelspec": {
   "display_name": "Python 3",
   "language": "python",
   "name": "python3"
  },
  "language_info": {
   "codemirror_mode": {
    "name": "ipython",
    "version": 3
   },
   "file_extension": ".py",
   "mimetype": "text/x-python",
   "name": "python",
   "nbconvert_exporter": "python",
   "pygments_lexer": "ipython3",
   "version": "3.6.4"
  }
 },
 "nbformat": 4,
 "nbformat_minor": 2
}
