{
 "cells": [
  {
   "cell_type": "markdown",
   "metadata": {},
   "source": [
    "## Packages"
   ]
  },
  {
   "cell_type": "code",
   "execution_count": 41,
   "metadata": {},
   "outputs": [],
   "source": [
    "import numpy as np\n",
    "import random\n",
    "import operator \n",
    "import pandas as pd \n",
    "import matplotlib.pyplot as plt\n",
    "import math\n",
    "from numba import autojit"
   ]
  },
  {
   "cell_type": "markdown",
   "metadata": {},
   "source": [
    "## Create necessary functions"
   ]
  },
  {
   "cell_type": "markdown",
   "metadata": {},
   "source": [
    "Create a fitness function"
   ]
  },
  {
   "cell_type": "code",
   "execution_count": 42,
   "metadata": {},
   "outputs": [],
   "source": [
    "@autojit\n",
    "def routeFitness(route, dm):\n",
    "    dist = 0\n",
    "    for i in range(len(route)-1):\n",
    "        dist += dm[route[i], route[i+1]]\n",
    "    dist += dm[int(route[-1]),int(route[0])]\n",
    "    return 1/dist"
   ]
  },
  {
   "cell_type": "code",
   "execution_count": 43,
   "metadata": {},
   "outputs": [],
   "source": [
    "#routeFitness(cities, d_matrix)"
   ]
  },
  {
   "cell_type": "markdown",
   "metadata": {},
   "source": [
    "Create function to make matrix of distances"
   ]
  },
  {
   "cell_type": "code",
   "execution_count": 44,
   "metadata": {},
   "outputs": [],
   "source": [
    "@autojit\n",
    "def dist_matrix(df):\n",
    "    list_of_distances = [] # just to make it simple, probably there are 1k better ways to do this\n",
    "    for point in df.itertuples():\n",
    "        a = point[1]\n",
    "        b = point[2]\n",
    "        for point_s in df.itertuples():\n",
    "            c = point_s[1]\n",
    "            d = point_s[2]\n",
    "            dist = math.sqrt(((c-a)**2) + ((d-b)**2))\n",
    "            list_of_distances.append(dist)\n",
    "    dist_matrix = np.array(list_of_distances) # convertion to array\n",
    "    dist_matrix = np.reshape(dist_matrix, (len(df), len(df))) # reshaping\n",
    "    # dist_matrix.shape # check\n",
    "    return dist_matrix"
   ]
  },
  {
   "cell_type": "markdown",
   "metadata": {},
   "source": [
    "## Create our initial population"
   ]
  },
  {
   "cell_type": "code",
   "execution_count": 45,
   "metadata": {},
   "outputs": [],
   "source": [
    "# def createRoute(cities):\n",
    "#     route = random.sample(cities, len(cities))\n",
    "#     return route"
   ]
  },
  {
   "cell_type": "markdown",
   "metadata": {},
   "source": [
    "Create first \"population\" (list of routes)"
   ]
  },
  {
   "cell_type": "code",
   "execution_count": 104,
   "metadata": {},
   "outputs": [],
   "source": [
    "def initPopulation(popSize, cities):\n",
    "    population = []\n",
    "    [population.append(random.sample(cities, len(cities))) for i in range(0, popSize)]\n",
    "#     for i in range(0, popSize):\n",
    "#         population.append(createRoute(cityList))\n",
    "    return population"
   ]
  },
  {
   "cell_type": "code",
   "execution_count": 105,
   "metadata": {},
   "outputs": [],
   "source": [
    "#pop = initPopulation(3, cities)"
   ]
  },
  {
   "cell_type": "markdown",
   "metadata": {},
   "source": [
    "## Create the genetic algorithm"
   ]
  },
  {
   "cell_type": "markdown",
   "metadata": {},
   "source": [
    "Rank individuals"
   ]
  },
  {
   "cell_type": "code",
   "execution_count": 106,
   "metadata": {},
   "outputs": [],
   "source": [
    "def rankRoutes(population, dm):\n",
    "    fitness = {}\n",
    "    \n",
    "    [fitness.update({i:routeFitness(population[i], dm)}) for i in range(0,len(population))]\n",
    "#     for i in range(0,len(population)):\n",
    "#         # fitnessResults[i] = Fitness(population[i], dm).routeFitness()\n",
    "#         fitnessResults[i] = routeFitness(population[i], dm)\n",
    "    return sorted(fitness.items(), key = operator.itemgetter(1), reverse = True)"
   ]
  },
  {
   "cell_type": "code",
   "execution_count": 107,
   "metadata": {},
   "outputs": [],
   "source": [
    "#rankRoutes(pop, d_matrix)"
   ]
  },
  {
   "cell_type": "markdown",
   "metadata": {},
   "source": [
    "Create a selection function that will be used to make the list of parent routes"
   ]
  },
  {
   "cell_type": "code",
   "execution_count": 131,
   "metadata": {},
   "outputs": [],
   "source": [
    "def selection(popRanked, elite_n):\n",
    "    selectionR = []\n",
    "    df = pd.DataFrame(np.array(popRanked), columns=[\"Index\",\"Fitness\"])\n",
    "    df['cum_sum'] = df.Fitness.cumsum()\n",
    "    df['cum_perc'] = 100*df.cum_sum/df.Fitness.sum()\n",
    "    \n",
    "    [selectionR.append(popRanked[i][0]) for i in range(0, elite_n)]\n",
    "#     for i in range(0, eliteSize):\n",
    "#         selectionResults.append(popRanked[i][0])\n",
    "    for i in range(0, len(popRanked) - elite_n):\n",
    "        epsilon = 100*random.random()\n",
    "        for i in range(0, len(popRanked)):\n",
    "            if epsilon <= df.iat[i,3]:\n",
    "                selectionR.append(popRanked[i][0])\n",
    "                break\n",
    "    return selectionR"
   ]
  },
  {
   "cell_type": "markdown",
   "metadata": {},
   "source": [
    "Create mating pool"
   ]
  },
  {
   "cell_type": "code",
   "execution_count": 109,
   "metadata": {},
   "outputs": [],
   "source": [
    "@autojit\n",
    "def matingPool(population, selectionR):\n",
    "    mp = []\n",
    "    for i in range(0, len(selectionR)):\n",
    "        index = selectionR[i]\n",
    "        mp.append(population[index])\n",
    "    return mp"
   ]
  },
  {
   "cell_type": "markdown",
   "metadata": {},
   "source": [
    "Create a crossover function for two parents to create one child"
   ]
  },
  {
   "cell_type": "code",
   "execution_count": 110,
   "metadata": {},
   "outputs": [],
   "source": [
    "def cross(parent1, parent2):\n",
    "    child = []\n",
    "    childP1 = []\n",
    "    childP2 = []\n",
    "    \n",
    "    geneA = int(random.random() * len(parent1))\n",
    "    geneB = int(random.random() * len(parent1))\n",
    "    \n",
    "    startGene = min(geneA, geneB)\n",
    "    endGene = max(geneA, geneB)\n",
    "    \n",
    "    [childP1.append(parent1[i]) for i in range(startGene, endGene)]\n",
    "#     for i in range(startGene, endGene):\n",
    "#         childP1.append(parent1[i])\n",
    "        \n",
    "    childP2 = [item for item in parent2 if item not in childP1]\n",
    "\n",
    "    child = childP1 + childP2\n",
    "    return child"
   ]
  },
  {
   "cell_type": "markdown",
   "metadata": {},
   "source": [
    "Create function to run crossover over full mating pool"
   ]
  },
  {
   "cell_type": "code",
   "execution_count": 111,
   "metadata": {},
   "outputs": [],
   "source": [
    "def breedPopulation(mp, elite_n):\n",
    "    children = []\n",
    "    length = len(mp) - elite_n\n",
    "    pool = random.sample(mp, len(mp))\n",
    "    \n",
    "    [children.append(mp[i]) for i in range(0,elite_n)]\n",
    "#     for i in range(0,eliteSize):\n",
    "#         children.append(matingpool[i])\n",
    "    \n",
    "    for i in range(0, length):\n",
    "            child = cross(pool[i], pool[len(mp)-i-1])\n",
    "            children.append(child)\n",
    "    return children"
   ]
  },
  {
   "cell_type": "code",
   "execution_count": null,
   "metadata": {},
   "outputs": [],
   "source": []
  },
  {
   "cell_type": "markdown",
   "metadata": {},
   "source": [
    "Create function to mutate a single route"
   ]
  },
  {
   "cell_type": "code",
   "execution_count": 112,
   "metadata": {},
   "outputs": [],
   "source": [
    "@autojit\n",
    "def mutation(individual, mutationRate):\n",
    "    for swapped in range(len(individual)):\n",
    "        if(random.random() < mutationRate):\n",
    "            swapWith = int(random.random() * len(individual))\n",
    "            \n",
    "            city1 = individual[swapped]\n",
    "            city2 = individual[swapWith]\n",
    "            \n",
    "            individual[swapped] = city2\n",
    "            individual[swapWith] = city1\n",
    "    return individual"
   ]
  },
  {
   "cell_type": "markdown",
   "metadata": {},
   "source": [
    "Create function to run mutation over entire population"
   ]
  },
  {
   "cell_type": "code",
   "execution_count": 113,
   "metadata": {},
   "outputs": [],
   "source": [
    "@autojit\n",
    "def mutatePopulation(population, mutationRate):\n",
    "    mutatedPop = []\n",
    "    \n",
    "    for ind in range(0, len(population)):\n",
    "        mutatedInd = mutation(population[ind], mutationRate)\n",
    "        mutatedPop.append(mutatedInd)\n",
    "    return mutatedPop"
   ]
  },
  {
   "cell_type": "markdown",
   "metadata": {},
   "source": [
    "Put all steps together to create the next generation"
   ]
  },
  {
   "cell_type": "code",
   "execution_count": 114,
   "metadata": {},
   "outputs": [],
   "source": [
    "@autojit\n",
    "def nextGen(currentGen, elite_n, mutationRate, dm):\n",
    "    popRanked = rankRoutes(currentGen, dm)\n",
    "    selectionR = selection(popRanked, elite_n)\n",
    "    mp = matingPool(currentGen, selectionR)\n",
    "    children = breedPopulation(mp, elite_n)\n",
    "    nextGeneration = mutatePopulation(children, mutationRate)\n",
    "    return nextGeneration"
   ]
  },
  {
   "cell_type": "markdown",
   "metadata": {},
   "source": [
    "Final step: create the genetic algorithm"
   ]
  },
  {
   "cell_type": "code",
   "execution_count": 115,
   "metadata": {},
   "outputs": [],
   "source": [
    "@autojit\n",
    "def GenA(permutation, dm, popSize, elite_n, mutation_r, n_of_gen):\n",
    "    pop = initPopulation(popSize, permutation)\n",
    "    print(\"Initial distance: \" + str(1 / rankRoutes(pop, dm)[0][1]))\n",
    "    \n",
    "    for i in range(0, n_of_gen):\n",
    "        pop = nextGen(pop, elite_n, mutation_r, dm)\n",
    "    \n",
    "    print(\"Final distance: \" + str(1 / rankRoutes(pop, dm)[0][1]))\n",
    "    bestRouteIndex = rankRoutes(pop, dm)[0][0]\n",
    "    bestRoute = pop[bestRouteIndex]\n",
    "    return bestRoute"
   ]
  },
  {
   "cell_type": "markdown",
   "metadata": {},
   "source": [
    "## Running the genetic algorithm"
   ]
  },
  {
   "cell_type": "markdown",
   "metadata": {},
   "source": [
    "Import our data"
   ]
  },
  {
   "cell_type": "code",
   "execution_count": 116,
   "metadata": {},
   "outputs": [
    {
     "data": {
      "text/html": [
       "<div>\n",
       "<style scoped>\n",
       "    .dataframe tbody tr th:only-of-type {\n",
       "        vertical-align: middle;\n",
       "    }\n",
       "\n",
       "    .dataframe tbody tr th {\n",
       "        vertical-align: top;\n",
       "    }\n",
       "\n",
       "    .dataframe thead th {\n",
       "        text-align: right;\n",
       "    }\n",
       "</style>\n",
       "<table border=\"1\" class=\"dataframe\">\n",
       "  <thead>\n",
       "    <tr style=\"text-align: right;\">\n",
       "      <th></th>\n",
       "      <th>x</th>\n",
       "      <th>y</th>\n",
       "    </tr>\n",
       "  </thead>\n",
       "  <tbody>\n",
       "    <tr>\n",
       "      <th>1</th>\n",
       "      <td>565.0</td>\n",
       "      <td>575.0</td>\n",
       "    </tr>\n",
       "    <tr>\n",
       "      <th>2</th>\n",
       "      <td>25.0</td>\n",
       "      <td>185.0</td>\n",
       "    </tr>\n",
       "    <tr>\n",
       "      <th>3</th>\n",
       "      <td>345.0</td>\n",
       "      <td>750.0</td>\n",
       "    </tr>\n",
       "    <tr>\n",
       "      <th>4</th>\n",
       "      <td>945.0</td>\n",
       "      <td>685.0</td>\n",
       "    </tr>\n",
       "    <tr>\n",
       "      <th>5</th>\n",
       "      <td>845.0</td>\n",
       "      <td>655.0</td>\n",
       "    </tr>\n",
       "  </tbody>\n",
       "</table>\n",
       "</div>"
      ],
      "text/plain": [
       "       x      y\n",
       "1  565.0  575.0\n",
       "2   25.0  185.0\n",
       "3  345.0  750.0\n",
       "4  945.0  685.0\n",
       "5  845.0  655.0"
      ]
     },
     "execution_count": 116,
     "metadata": {},
     "output_type": "execute_result"
    }
   ],
   "source": [
    "df = pd.read_csv(\"berlin52.tsp\", header=None, sep = \" \", names = ['x', 'y'], index_col = 0)\n",
    "df.head()"
   ]
  },
  {
   "cell_type": "markdown",
   "metadata": {},
   "source": [
    "Create the list of cities and the matrix of distances"
   ]
  },
  {
   "cell_type": "code",
   "execution_count": 117,
   "metadata": {},
   "outputs": [],
   "source": [
    "cities = []\n",
    "cities = list(range(len(df)))\n",
    "d_matrix = dist_matrix(df)"
   ]
  },
  {
   "cell_type": "markdown",
   "metadata": {},
   "source": [
    "Run the genetic algorithm"
   ]
  },
  {
   "cell_type": "code",
   "execution_count": 147,
   "metadata": {},
   "outputs": [
    {
     "name": "stdout",
     "output_type": "stream",
     "text": [
      "Initial distance: 23346.980504149917\n",
      "Final distance: 11693.824951955725\n",
      "Wall time: 3.28 s\n"
     ]
    },
    {
     "data": {
      "text/plain": [
       "[19,\n",
       " 22,\n",
       " 6,\n",
       " 1,\n",
       " 41,\n",
       " 16,\n",
       " 30,\n",
       " 47,\n",
       " 5,\n",
       " 37,\n",
       " 36,\n",
       " 38,\n",
       " 33,\n",
       " 35,\n",
       " 34,\n",
       " 21,\n",
       " 31,\n",
       " 48,\n",
       " 39,\n",
       " 43,\n",
       " 0,\n",
       " 2,\n",
       " 44,\n",
       " 18,\n",
       " 7,\n",
       " 9,\n",
       " 40,\n",
       " 8,\n",
       " 32,\n",
       " 42,\n",
       " 50,\n",
       " 10,\n",
       " 51,\n",
       " 13,\n",
       " 46,\n",
       " 26,\n",
       " 12,\n",
       " 11,\n",
       " 24,\n",
       " 3,\n",
       " 45,\n",
       " 27,\n",
       " 25,\n",
       " 14,\n",
       " 4,\n",
       " 23,\n",
       " 49,\n",
       " 28,\n",
       " 15,\n",
       " 17,\n",
       " 20,\n",
       " 29]"
      ]
     },
     "execution_count": 147,
     "metadata": {},
     "output_type": "execute_result"
    }
   ],
   "source": [
    "%time GenA(permutation = cities,dm = d_matrix,popSize = 70,elite_n = 15, \\\n",
    "           mutation_r = 0.01, n_of_gen = 300) \\\n",
    "     \n"
   ]
  },
  {
   "cell_type": "code",
   "execution_count": 23,
   "metadata": {},
   "outputs": [],
   "source": [
    "#%time geneticAlgorithm(population = cityList, popSize = 100, eliteSize = 25, mutationRate = 0.01, generations = 100, dm = d_matrix)"
   ]
  },
  {
   "cell_type": "markdown",
   "metadata": {},
   "source": [
    "## Plot the progress"
   ]
  },
  {
   "cell_type": "markdown",
   "metadata": {},
   "source": [
    "Note, this will win run a separate GA"
   ]
  },
  {
   "cell_type": "code",
   "execution_count": 99,
   "metadata": {},
   "outputs": [],
   "source": [
    "def geneticAlgorithmPlot(permutations, popSize, eliteSize, mutationRate, generations, dm = d_matrix):\n",
    "    pop = initPopulation(popSize, permutations)\n",
    "    progress = []\n",
    "    progress.append(1 / rankRoutes(pop, dm)[0][1])\n",
    "    \n",
    "    for i in range(0, generations):\n",
    "        pop = nextGen(pop, eliteSize, mutationRate, dm)\n",
    "        progress.append(1 / rankRoutes(pop, dm)[0][1])\n",
    "        \n",
    "    print(\"Final distance: \" + str(min(progress)))\n",
    "    plt.plot(progress)\n",
    "    plt.ylabel('Distance')\n",
    "    plt.xlabel('Generation')\n",
    "    plt.show()\n",
    "    "
   ]
  },
  {
   "cell_type": "markdown",
   "metadata": {},
   "source": [
    "Run the function with our assumptions to see how distance has improved in each generation"
   ]
  },
  {
   "cell_type": "code",
   "execution_count": 36,
   "metadata": {},
   "outputs": [
    {
     "name": "stdout",
     "output_type": "stream",
     "text": [
      "Final distance: 21725.795027108128\n"
     ]
    },
    {
     "data": {
      "image/png": "[encoded data removed]",
      "text/plain": [
       "<Figure size 432x288 with 1 Axes>"
      ]
     },
     "metadata": {
      "needs_background": "light"
     },
     "output_type": "display_data"
    },
    {
     "name": "stdout",
     "output_type": "stream",
     "text": [
      "Wall time: 3min 40s\n"
     ]
    }
   ],
   "source": [
    "%time geneticAlgorithmPlot(permutations=cities, popSize=200, eliteSize=25, \\\n",
    "                           mutationRate=0.2, generations = 1000, \\\n",
    "                           dm = d_matrix) \\"
   ]
  },
  {
   "cell_type": "code",
   "execution_count": null,
   "metadata": {},
   "outputs": [],
   "source": []
  }
 ],
 "metadata": {
  "kernelspec": {
   "display_name": "Python 3",
   "language": "python",
   "name": "python3"
  },
  "language_info": {
   "codemirror_mode": {
    "name": "ipython",
    "version": 3
   },
   "file_extension": ".py",
   "mimetype": "text/x-python",
   "name": "python",
   "nbconvert_exporter": "python",
   "pygments_lexer": "ipython3",
   "version": "3.6.4"
  }
 },
 "nbformat": 4,
 "nbformat_minor": 2
}
