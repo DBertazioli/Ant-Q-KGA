{
 "cells": [
  {
   "cell_type": "code",
   "execution_count": 53,
   "metadata": {},
   "outputs": [],
   "source": [
    "import numpy as np\n",
    "import random\n",
    "import operator \n",
    "import pandas as pd \n",
    "import matplotlib.pyplot as plt\n",
    "import math\n",
    "from numba import autojit"
   ]
  },
  {
   "cell_type": "code",
   "execution_count": 150,
   "metadata": {},
   "outputs": [],
   "source": [
    "def routeFitness(route, dm):\n",
    "    dist = 0\n",
    "    for i in range(len(route)-1):\n",
    "        dist += dm[route[i], route[i+1]]\n",
    "    dist += dm[route[-1], route[0]]\n",
    "    return 1/dist"
   ]
  },
  {
   "cell_type": "code",
   "execution_count": 68,
   "metadata": {},
   "outputs": [],
   "source": [
    "def dist_matrix(df):\n",
    "    list_of_distances = [] # just to make it simple, probably there are 1k better ways to do this\n",
    "    for point in df.itertuples():\n",
    "        a = point[1]\n",
    "        b = point[2]\n",
    "        for point_s in df.itertuples():\n",
    "            c = point_s[1]\n",
    "            d = point_s[2]\n",
    "            dist = math.sqrt(((c-a)**2) + ((d-b)**2))\n",
    "            list_of_distances.append(dist)\n",
    "    dist_matrix = np.array(list_of_distances) # convertion to array\n",
    "    dist_matrix = np.reshape(dist_matrix, (len(df), len(df))) # reshaping\n",
    "    # dist_matrix.shape # check\n",
    "    return dist_matrix"
   ]
  },
  {
   "cell_type": "code",
   "execution_count": 69,
   "metadata": {},
   "outputs": [],
   "source": [
    "def initPopulation(popSize, cities):\n",
    "    population = []\n",
    "    [population.append(random.sample(cities, len(cities))) for i in range(0, popSize)]\n",
    "#     for i in range(0, popSize):\n",
    "#         population.append(createRoute(cityList))\n",
    "    return population"
   ]
  },
  {
   "cell_type": "code",
   "execution_count": 158,
   "metadata": {},
   "outputs": [],
   "source": [
    "def GenA(permutation, dm, popSize, elite_n, mutation_r, n_of_gen):\n",
    "    pop = initPopulation(popSize, permutation)\n",
    "    fitness = {}\n",
    "    [fitness.update({i:routeFitness(pop[i], dm)}) for i in range(0,len(pop))]\n",
    "    rankedRoutes = sorted(fitness.items(), key = operator.itemgetter(1), reverse = True)\n",
    "    print(\"Initial distance: \" + str(1 / rankedRoutes[0][1]))\n",
    "    \n",
    "    for k in range(0, n_of_gen):\n",
    "        \n",
    "        ##################\n",
    "        # Ranking routes #\n",
    "        ##################\n",
    "        \n",
    "        fitness = {}\n",
    "        #print(k)\n",
    "        #[fitness.update({i:routeFitness(pop[i], dm)}) for i in range(0,len(pop))]\n",
    "        for i in range(0, len(pop)):\n",
    "#         # fitnessResults[i] = Fitness(population[i], dm).routeFitness()\n",
    "            fitness[i] = routeFitness(pop[i], dm)\n",
    "        \n",
    "        rankedRoutes = sorted(fitness.items(), key = operator.itemgetter(1), reverse = True)\n",
    "        \n",
    "        #############\n",
    "        # selection #\n",
    "        #############\n",
    "        \n",
    "        selectionR = []\n",
    "        df = pd.DataFrame(np.array(rankedRoutes), columns=[\"Index\",\"Fitness\"])\n",
    "        df['cum_sum'] = df.Fitness.cumsum()\n",
    "        df['cum_perc'] = 100*df.cum_sum/df.Fitness.sum()\n",
    "        [selectionR.append(rankedRoutes[i][0]) for i in range(0, elite_n)]\n",
    "        \n",
    "        for i in range(0, len(rankedRoutes) - elite_n):\n",
    "            epsilon = 100*random.random()\n",
    "            for i in range(0, len(rankedRoutes)):\n",
    "                if epsilon <= df.iat[i,3]:\n",
    "                    selectionR.append(rankedRoutes[i][0])\n",
    "                    break\n",
    "        \n",
    "        #print(selectionR)\n",
    "        \n",
    "        ###############\n",
    "        # mating pool #\n",
    "        ###############\n",
    "        \n",
    "        mp = []\n",
    "       # [mp.append(pop[selectionR[i]]) for i in range(0, len(selectionR))]\n",
    "        for i in range(0, len(selectionR)):\n",
    "            index = selectionR[i]\n",
    "            mp.append(pop[index])\n",
    "\n",
    "\n",
    "        #############\n",
    "        # Crossover #\n",
    "        #############\n",
    "        \n",
    "        children = []\n",
    "        length = len(mp) - elite_n\n",
    "        pool = random.sample(mp, len(mp))\n",
    "    \n",
    "        [children.append(mp[i]) for i in range(0, elite_n)]\n",
    "        \n",
    "        for i in range(0, length):\n",
    "            child = []\n",
    "            childP1 = []\n",
    "            childP2 = []\n",
    "    \n",
    "            geneA = int(random.random() * len(pool[i]))\n",
    "            geneB = int(random.random() * len(pool[i]))\n",
    "            \n",
    "            startGene = min(geneA, geneB)\n",
    "            endGene = max(geneA, geneB)\n",
    "            [childP1.append(pool[j]) for j in range(startGene, endGene)]\n",
    "            childP2 = [item for item in pool[len(mp)-i-1] if item not in childP1]\n",
    "            \n",
    "            child = childP1 + childP2\n",
    "            \n",
    "            children.append(child)\n",
    "        #print(children)    \n",
    "        ############\n",
    "        # mutation #\n",
    "        ############\n",
    "        \n",
    "        mutatedPop = []\n",
    "    \n",
    "        for ind in range(0, len(children)):\n",
    "            individual = children[ind]\n",
    "            for swapped in range(len(individual)):\n",
    "                if(random.random() < mutation_r):\n",
    "                    swapWith = int(random.random() * len(individual))\n",
    "            \n",
    "                    city1 = individual[swapped]\n",
    "                    city2 = individual[swapWith]\n",
    "            \n",
    "                    individual[swapped] = city2\n",
    "                    individual[swapWith] = city1\n",
    "                    #print(individual)\n",
    "            mutatedPop.append(individual)\n",
    "       \n",
    "        #print(mutatedPop)\n",
    "        \n",
    "        ##############\n",
    "        # update pop #\n",
    "        ##############\n",
    "       # print(mutatedPop)\n",
    "        \n",
    "        pop = mutatedPop\n",
    "         \n",
    "    \n",
    "    \n",
    "    fitness = {}\n",
    "    [fitness.update({i:routeFitness(pop[i], dm)}) for i in range(0,len(pop))]\n",
    "    rankedRoutes = sorted(fitness.items(), key = operator.itemgetter(1), reverse = True)  \n",
    "    print(\"Final distance: \" + str(1 / rankedRoutes[0][1]))\n",
    "    bestRouteIndex = rankedRoutes[0][0]\n",
    "    bestRoute = pop[bestRouteIndex]\n",
    "    return bestRoute"
   ]
  },
  {
   "cell_type": "code",
   "execution_count": 159,
   "metadata": {},
   "outputs": [
    {
     "name": "stdout",
     "output_type": "stream",
     "text": [
      "Initial distance: 26034.469267891127\n"
     ]
    },
    {
     "ename": "ValueError",
     "evalue": "The truth value of an array with more than one element is ambiguous. Use a.any() or a.all()",
     "output_type": "error",
     "traceback": [
      "\u001b[1;31m---------------------------------------------------------------------------\u001b[0m",
      "\u001b[1;31mValueError\u001b[0m                                Traceback (most recent call last)",
      "\u001b[1;32m<ipython-input-159-7b8aff0d4795>\u001b[0m in \u001b[0;36m<module>\u001b[1;34m()\u001b[0m\n\u001b[1;32m----> 1\u001b[1;33m \u001b[0mGenA\u001b[0m\u001b[1;33m(\u001b[0m\u001b[0mpermutation\u001b[0m \u001b[1;33m=\u001b[0m \u001b[0mcities\u001b[0m\u001b[1;33m,\u001b[0m \u001b[0mpopSize\u001b[0m \u001b[1;33m=\u001b[0m \u001b[1;36m100\u001b[0m\u001b[1;33m,\u001b[0m \u001b[0mdm\u001b[0m \u001b[1;33m=\u001b[0m \u001b[0md_matrix\u001b[0m\u001b[1;33m,\u001b[0m \u001b[0melite_n\u001b[0m \u001b[1;33m=\u001b[0m \u001b[1;36m10\u001b[0m\u001b[1;33m,\u001b[0m \u001b[0mmutation_r\u001b[0m \u001b[1;33m=\u001b[0m \u001b[1;36m0.05\u001b[0m\u001b[1;33m,\u001b[0m \u001b[0mn_of_gen\u001b[0m \u001b[1;33m=\u001b[0m \u001b[1;36m50\u001b[0m\u001b[1;33m)\u001b[0m\u001b[1;33m\u001b[0m\u001b[0m\n\u001b[0m",
      "\u001b[1;32m<ipython-input-158-7aa7e3913767>\u001b[0m in \u001b[0;36mGenA\u001b[1;34m(permutation, dm, popSize, elite_n, mutation_r, n_of_gen)\u001b[0m\n\u001b[0;32m     19\u001b[0m             \u001b[0mfitness\u001b[0m\u001b[1;33m[\u001b[0m\u001b[0mi\u001b[0m\u001b[1;33m]\u001b[0m \u001b[1;33m=\u001b[0m \u001b[0mrouteFitness\u001b[0m\u001b[1;33m(\u001b[0m\u001b[0mpop\u001b[0m\u001b[1;33m[\u001b[0m\u001b[0mi\u001b[0m\u001b[1;33m]\u001b[0m\u001b[1;33m,\u001b[0m \u001b[0mdm\u001b[0m\u001b[1;33m)\u001b[0m\u001b[1;33m\u001b[0m\u001b[0m\n\u001b[0;32m     20\u001b[0m \u001b[1;33m\u001b[0m\u001b[0m\n\u001b[1;32m---> 21\u001b[1;33m         \u001b[0mrankedRoutes\u001b[0m \u001b[1;33m=\u001b[0m \u001b[0msorted\u001b[0m\u001b[1;33m(\u001b[0m\u001b[0mfitness\u001b[0m\u001b[1;33m.\u001b[0m\u001b[0mitems\u001b[0m\u001b[1;33m(\u001b[0m\u001b[1;33m)\u001b[0m\u001b[1;33m,\u001b[0m \u001b[0mkey\u001b[0m \u001b[1;33m=\u001b[0m \u001b[0moperator\u001b[0m\u001b[1;33m.\u001b[0m\u001b[0mitemgetter\u001b[0m\u001b[1;33m(\u001b[0m\u001b[1;36m1\u001b[0m\u001b[1;33m)\u001b[0m\u001b[1;33m,\u001b[0m \u001b[0mreverse\u001b[0m \u001b[1;33m=\u001b[0m \u001b[1;32mTrue\u001b[0m\u001b[1;33m)\u001b[0m\u001b[1;33m\u001b[0m\u001b[0m\n\u001b[0m\u001b[0;32m     22\u001b[0m \u001b[1;33m\u001b[0m\u001b[0m\n\u001b[0;32m     23\u001b[0m         \u001b[1;31m#############\u001b[0m\u001b[1;33m\u001b[0m\u001b[1;33m\u001b[0m\u001b[0m\n",
      "\u001b[1;31mValueError\u001b[0m: The truth value of an array with more than one element is ambiguous. Use a.any() or a.all()"
     ]
    }
   ],
   "source": [
    "GenA(permutation = cities, popSize = 100, dm = d_matrix, elite_n = 10, mutation_r = 0.05, n_of_gen = 50)"
   ]
  },
  {
   "cell_type": "code",
   "execution_count": null,
   "metadata": {},
   "outputs": [],
   "source": []
  },
  {
   "cell_type": "code",
   "execution_count": 7,
   "metadata": {},
   "outputs": [],
   "source": [
    "df = pd.read_csv(\"berlin52.tsp\", header=None, sep = \" \", names = ['x', 'y'], index_col = 0)\n",
    "df.head()\n",
    "cities = []\n",
    "cities = list(range(len(df)))\n",
    "d_matrix = dist_matrix(df)"
   ]
  },
  {
   "cell_type": "code",
   "execution_count": null,
   "metadata": {},
   "outputs": [],
   "source": []
  },
  {
   "cell_type": "code",
   "execution_count": null,
   "metadata": {},
   "outputs": [],
   "source": []
  },
  {
   "cell_type": "code",
   "execution_count": null,
   "metadata": {},
   "outputs": [],
   "source": []
  },
  {
   "cell_type": "code",
   "execution_count": null,
   "metadata": {},
   "outputs": [],
   "source": []
  }
 ],
 "metadata": {
  "kernelspec": {
   "display_name": "Python 3",
   "language": "python",
   "name": "python3"
  },
  "language_info": {
   "codemirror_mode": {
    "name": "ipython",
    "version": 3
   },
   "file_extension": ".py",
   "mimetype": "text/x-python",
   "name": "python",
   "nbconvert_exporter": "python",
   "pygments_lexer": "ipython3",
   "version": "3.6.4"
  }
 },
 "nbformat": 4,
 "nbformat_minor": 2
}
