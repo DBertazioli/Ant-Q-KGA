{
 "cells": [
  {
   "cell_type": "markdown",
   "metadata": {},
   "source": [
    "## Import packages"
   ]
  },
  {
   "cell_type": "code",
   "execution_count": 6,
   "metadata": {},
   "outputs": [],
   "source": [
    "import numpy as np\n",
    "import random\n",
    "import operator \n",
    "import pandas as pd \n",
    "import matplotlib.pyplot as plt\n",
    "import math\n",
    "import time"
   ]
  },
  {
   "cell_type": "markdown",
   "metadata": {},
   "source": [
    "## Define fitness function for TSP problem"
   ]
  },
  {
   "cell_type": "code",
   "execution_count": 7,
   "metadata": {},
   "outputs": [],
   "source": [
    "def routeFitness(route, dm):\n",
    "    dist = 0\n",
    "    for i in range(len(route)-1):\n",
    "        dist += dm[route[i], route[i+1]]\n",
    "    dist += dm[route[-1], route[0]]\n",
    "    fitness = 1/dist\n",
    "    \n",
    "    return fitness"
   ]
  },
  {
   "cell_type": "markdown",
   "metadata": {},
   "source": [
    "## Define a function to compute euclidean matrix between points"
   ]
  },
  {
   "cell_type": "code",
   "execution_count": 8,
   "metadata": {},
   "outputs": [],
   "source": [
    "def dist_matrix(df):\n",
    "    list_of_distances = [] # just to make it simple, probably there are 1k better ways to do this\n",
    "    for point in df.itertuples():\n",
    "        a = point[1]\n",
    "        b = point[2]\n",
    "        for point_s in df.itertuples():\n",
    "            c = point_s[1]\n",
    "            d = point_s[2]\n",
    "            dist = math.sqrt(((c-a)**2) + ((d-b)**2))\n",
    "            list_of_distances.append(dist)\n",
    "    dist_matrix = np.array(list_of_distances) # convertion to array\n",
    "    dist_matrix = np.reshape(dist_matrix, (len(df), len(df))) # reshaping\n",
    "    # dist_matrix.shape # check\n",
    "    return dist_matrix"
   ]
  },
  {
   "cell_type": "markdown",
   "metadata": {},
   "source": [
    "## Define a function to initialize our population"
   ]
  },
  {
   "cell_type": "code",
   "execution_count": 9,
   "metadata": {},
   "outputs": [],
   "source": [
    "def initPopulation(popSize, cities):\n",
    "    population = []\n",
    "    [population.append(random.sample(cities, len(cities))) for i in range(0, popSize)]\n",
    "#     for i in range(0, popSize):\n",
    "#         population.append(createRoute(cityList))\n",
    "    return population"
   ]
  },
  {
   "cell_type": "markdown",
   "metadata": {},
   "source": [
    "## Define a function to compute the error"
   ]
  },
  {
   "cell_type": "code",
   "execution_count": 10,
   "metadata": {},
   "outputs": [],
   "source": [
    "def errPerc(exactValue, currValue, nRound = 2):\n",
    "    errp = round((abs(exactValue - currValue) / exactValue)*100, nRound)\n",
    "    return errp"
   ]
  },
  {
   "cell_type": "markdown",
   "metadata": {},
   "source": [
    "## Define the main algorithm"
   ]
  },
  {
   "cell_type": "code",
   "execution_count": 46,
   "metadata": {},
   "outputs": [],
   "source": [
    "def GenA(permutation, dm, popSize, elite_n, mutation_r, n_of_gen, plot = False):\n",
    "    start = time.time()\n",
    "    pop = initPopulation(popSize, permutation)\n",
    "    fitness = {}\n",
    "    [fitness.update({i:routeFitness(pop[i], dm)}) for i in range(0,len(pop))]\n",
    "    rankedRoutes = sorted(fitness.items(), key = operator.itemgetter(1), reverse = True)\n",
    "    \n",
    "    if plot:\n",
    "        progress = []\n",
    "        progress.append(1 / rankedRoutes[0][1])\n",
    "    \n",
    "    print(\"Initial distance: \" + str(1 / rankedRoutes[0][1]))\n",
    "    \n",
    "    for k in range(0, n_of_gen):\n",
    "        \n",
    "        ##################\n",
    "        # Ranking routes #\n",
    "        ##################\n",
    "        \n",
    "        fitness = {}\n",
    "        [fitness.update({i:routeFitness(pop[i], dm)}) for i in range(0,len(pop))]\n",
    "        rankedRoutes = sorted(fitness.items(), key = lambda kv: kv[1], reverse = True)\n",
    "        \n",
    "        ########\n",
    "        # plot #\n",
    "        ########\n",
    "        \n",
    "        if plot:\n",
    "            progress.append(1 / rankedRoutes[0][1])\n",
    "\n",
    "        #############\n",
    "        # selection #\n",
    "        #############\n",
    "        \n",
    "        selectionR = []\n",
    "        df = pd.DataFrame(np.array(rankedRoutes), columns=[\"Index\",\"Fitness\"])\n",
    "        df['cum_sum'] = df.Fitness.cumsum()\n",
    "        df['cum_perc'] = 100*df.cum_sum/df.Fitness.sum()\n",
    "        \n",
    "        [selectionR.append(rankedRoutes[i][0]) for i in range(0, elite_n)]\n",
    "        \n",
    "        for i in range(0, len(rankedRoutes) - elite_n):\n",
    "            pick = 100*random.random()\n",
    "            for i in range(0, len(rankedRoutes)):\n",
    "                if pick <= df.iat[i,3]:\n",
    "                    selectionR.append(rankedRoutes[i][0])\n",
    "                    break  \n",
    "        \n",
    "        ###############\n",
    "        # mating pool #\n",
    "        ###############\n",
    "        \n",
    "        mp = []\n",
    "        [mp.append(pop[selectionR[i]]) for i in range(0, len(selectionR))]\n",
    "\n",
    "        #############\n",
    "        # Crossover #\n",
    "        #############\n",
    "        \n",
    "        children = []\n",
    "        length = (len(mp) - elite_n)\n",
    "        pool = random.sample(mp, len(mp))\n",
    "        [children.append(mp[i]) for i in range(0, elite_n)]\n",
    "        \n",
    "        for i in range(0, length):\n",
    "            parent1 = pool[i]\n",
    "            parent2 = pool[len(mp)-i-1]\n",
    "            child = []\n",
    "            childP1 = []\n",
    "            childP2 = []\n",
    "    \n",
    "            geneA = int(random.random() * len(parent1))\n",
    "            geneB = int(random.random() * len(parent1))\n",
    "            \n",
    "            startGene = min(geneA, geneB)\n",
    "            endGene = max(geneA, geneB)\n",
    "            [childP1.append(parent1[i]) for i in range(startGene, endGene)]\n",
    "            childP2 = [item for item in parent2 if item not in childP1]\n",
    "            \n",
    "            child = childP1 + childP2\n",
    "            children.append(child)\n",
    "        \n",
    "        ############\n",
    "        # mutation #\n",
    "        ############\n",
    "        \n",
    "        mutatedPop = []\n",
    "    \n",
    "        for ind in range(0, len(children)):\n",
    "            individual = children[ind]\n",
    "            for swapped in range(len(individual)):\n",
    "                if(random.random() < mutation_r):\n",
    "                    swapWith = int(random.random() * len(individual))\n",
    "            \n",
    "                    city1 = individual[swapped]\n",
    "                    city2 = individual[swapWith]\n",
    "            \n",
    "                    individual[swapped] = city2\n",
    "                    individual[swapWith] = city1\n",
    "            mutatedPop.append(individual)\n",
    "        \n",
    "        ##############\n",
    "        # update pop #\n",
    "        ##############\n",
    "        \n",
    "        pop = mutatedPop\n",
    "        \n",
    "    \n",
    "    \n",
    "    ###########\n",
    "    # results #\n",
    "    ###########\n",
    "    \n",
    "    fitness = {}\n",
    "    [fitness.update({i:routeFitness(pop[i], dm)}) for i in range(0,len(pop))]\n",
    "    rankedRoutes = sorted(fitness.items(), key = lambda kv: kv[1], reverse = True)\n",
    "    bestDistance = 1 / rankedRoutes[0][1]\n",
    "    print(\"Final distance: {}\".format(bestDistance))\n",
    "    bestRouteIndex = rankedRoutes[0][0]\n",
    "    bestRoute = pop[bestRouteIndex]\n",
    "    time_executed = (time.time() - start)\n",
    "    print(\"Algorithm completed in {} s\".format(time_executed))\n",
    "    \n",
    "    if plot:\n",
    "        plt.plot(progress)\n",
    "        plt.ylabel('Distance')\n",
    "        plt.xlabel('Generation')\n",
    "        plt.show()\n",
    "    \n",
    "    return bestRoute, bestDistance, time_executed"
   ]
  },
  {
   "cell_type": "markdown",
   "metadata": {},
   "source": [
    "## Running the algorithm"
   ]
  },
  {
   "cell_type": "markdown",
   "metadata": {},
   "source": [
    "Import our data"
   ]
  },
  {
   "cell_type": "code",
   "execution_count": 32,
   "metadata": {},
   "outputs": [],
   "source": [
    "df_berlin52 = pd.read_csv(\"berlin52.tsp\", header=None, sep = \" \", names = ['x', 'y'], index_col = 0)\n",
    "df_pr76 = pd.read_csv(\"pr76.tsp\", header=None, sep = \" \", names = ['x', 'y'], index_col = 0)\n",
    "df_ch150 = pd.read_csv(\"ch150.tsp\", header=None, sep = \" \", names = ['x', 'y'], index_col = 0)\n",
    "df_a280 = pd.read_csv(\"a280.tsp\", header=None, sep = \",\", names = ['x', 'y'], index_col = 0)\n",
    "bestKnown_tsp = {\n",
    "    'berlin52':7542,\n",
    "    'pr76':108159,\n",
    "    'ch150':6528,\n",
    "    'a280':2579}\n",
    "list_dist = []\n",
    "list_time = []\n",
    "list_route = []"
   ]
  },
  {
   "cell_type": "markdown",
   "metadata": {},
   "source": [
    "### berlin52"
   ]
  },
  {
   "cell_type": "code",
   "execution_count": 33,
   "metadata": {},
   "outputs": [],
   "source": [
    "cities = []\n",
    "cities = list(range(len(df_berlin52)))\n",
    "d_matrix = dist_matrix(df_berlin52)"
   ]
  },
  {
   "cell_type": "code",
   "execution_count": 47,
   "metadata": {},
   "outputs": [
    {
     "name": "stdout",
     "output_type": "stream",
     "text": [
      "Initial distance: 31624.74029818603\n",
      "Final distance: 28063.97486722315\n",
      "Algorithm completed in 7.436146974563599 s\n"
     ]
    },
    {
     "data": {
      "image/png": "[encoded data removed]",
      "text/plain": [
       "<Figure size 432x288 with 1 Axes>"
      ]
     },
     "metadata": {
      "needs_background": "light"
     },
     "output_type": "display_data"
    },
    {
     "name": "stdout",
     "output_type": "stream",
     "text": [
      "With an error to minimal value of: 272.1%\n"
     ]
    }
   ],
   "source": [
    "route, dist, time_ex = GenA(permutation = cities, dm = d_matrix,\n",
    "                         popSize = 100,\n",
    "                         elite_n = 25,\n",
    "                         mutation_r = 0.01,\n",
    "                         n_of_gen = 100,\n",
    "                           plot = True)\n",
    "\n",
    "print('With an error to minimal value of: {}%'.format(errPerc(bestKnown_tsp['berlin52'], dist, 2)))\n",
    "list_dist.append(dist)\n",
    "list_time.append(time_ex)\n",
    "list_route.append(route)"
   ]
  },
  {
   "cell_type": "markdown",
   "metadata": {},
   "source": [
    "### pr76"
   ]
  },
  {
   "cell_type": "code",
   "execution_count": 48,
   "metadata": {},
   "outputs": [],
   "source": [
    "cities = []\n",
    "cities = list(range(len(df_pr76)))\n",
    "d_matrix = dist_matrix(df_pr76)"
   ]
  },
  {
   "cell_type": "code",
   "execution_count": 49,
   "metadata": {},
   "outputs": [
    {
     "name": "stdout",
     "output_type": "stream",
     "text": [
      "Initial distance: 513968.18854919274\n",
      "Final distance: 354752.36754738254\n",
      "Algorithm completed in 36.741140604019165 s\n"
     ]
    },
    {
     "data": {
      "image/png": "[encoded data removed]",
      "text/plain": [
       "<Figure size 432x288 with 1 Axes>"
      ]
     },
     "metadata": {
      "needs_background": "light"
     },
     "output_type": "display_data"
    },
    {
     "name": "stdout",
     "output_type": "stream",
     "text": [
      "With an error to minimal value of: 227.99%\n"
     ]
    }
   ],
   "source": [
    "route, dist, time_ex = GenA(permutation = cities, dm = d_matrix,\n",
    "                         popSize = 100,\n",
    "                         elite_n = 25,\n",
    "                         mutation_r = 0.01,\n",
    "                         n_of_gen = 1000,\n",
    "                           plot = True)\n",
    "print('With an error to minimal value of: {}%'.format(errPerc(bestKnown_tsp['pr76'], dist, 2)))\n",
    "list_dist.append(dist)\n",
    "list_time.append(time_ex)\n",
    "list_route.append(route)"
   ]
  },
  {
   "cell_type": "markdown",
   "metadata": {},
   "source": [
    "### ch150"
   ]
  },
  {
   "cell_type": "code",
   "execution_count": 50,
   "metadata": {},
   "outputs": [],
   "source": [
    "cities = []\n",
    "cities = list(range(len(df_ch150)))\n",
    "d_matrix = dist_matrix(df_ch150)"
   ]
  },
  {
   "cell_type": "code",
   "execution_count": 51,
   "metadata": {},
   "outputs": [
    {
     "name": "stdout",
     "output_type": "stream",
     "text": [
      "Initial distance: 49259.59241705724\n",
      "Final distance: 38821.375821474176\n",
      "Algorithm completed in 48.10326170921326 s\n"
     ]
    },
    {
     "data": {
      "image/png": "[encoded data removed]",
      "text/plain": [
       "<Figure size 432x288 with 1 Axes>"
      ]
     },
     "metadata": {
      "needs_background": "light"
     },
     "output_type": "display_data"
    },
    {
     "name": "stdout",
     "output_type": "stream",
     "text": [
      "With an error to minimal value of: 494.69%\n"
     ]
    }
   ],
   "source": [
    "route, dist, time_ex = GenA(permutation = cities, dm = d_matrix,\n",
    "                         popSize = 100,\n",
    "                         elite_n = 25,\n",
    "                         mutation_r = 0.01,\n",
    "                         n_of_gen = 1000,\n",
    "                           plot = True)\n",
    "print('With an error to minimal value of: {}%'.format(errPerc(bestKnown_tsp['ch150'], dist, 2)))\n",
    "list_dist.append(dist)\n",
    "list_time.append(time_ex)\n",
    "list_route.append(route)"
   ]
  },
  {
   "cell_type": "markdown",
   "metadata": {},
   "source": [
    "### a280"
   ]
  },
  {
   "cell_type": "code",
   "execution_count": 52,
   "metadata": {},
   "outputs": [],
   "source": [
    "cities = []\n",
    "cities = list(range(len(df_a280)))\n",
    "d_matrix = dist_matrix(df_a280)"
   ]
  },
  {
   "cell_type": "code",
   "execution_count": 53,
   "metadata": {},
   "outputs": [
    {
     "name": "stdout",
     "output_type": "stream",
     "text": [
      "Initial distance: 31841.41745538738\n",
      "Final distance: 27128.043406339828\n",
      "Algorithm completed in 75.79109978675842 s\n"
     ]
    },
    {
     "data": {
      "image/png": "[encoded data removed]",
      "text/plain": [
       "<Figure size 432x288 with 1 Axes>"
      ]
     },
     "metadata": {
      "needs_background": "light"
     },
     "output_type": "display_data"
    },
    {
     "name": "stdout",
     "output_type": "stream",
     "text": [
      "With an error to minimal value of: 951.88%\n"
     ]
    }
   ],
   "source": [
    "route, dist, time_ex = GenA(permutation = cities, dm = d_matrix,\n",
    "                         popSize = 100,\n",
    "                         elite_n = 25,\n",
    "                         mutation_r = 0.01,\n",
    "                         n_of_gen = 1000,\n",
    "                           plot = True)\n",
    "print('With an error to minimal value of: {}%'.format(errPerc(bestKnown_tsp['a280'], dist, 2)))\n",
    "list_dist.append(dist)\n",
    "list_time.append(time_ex)\n",
    "list_route.append(route)"
   ]
  },
  {
   "cell_type": "markdown",
   "metadata": {},
   "source": [
    "## Results"
   ]
  },
  {
   "cell_type": "code",
   "execution_count": 41,
   "metadata": {},
   "outputs": [],
   "source": [
    "ndx = list(bestKnown_tsp.keys())"
   ]
  },
  {
   "cell_type": "code",
   "execution_count": 42,
   "metadata": {},
   "outputs": [
    {
     "data": {
      "text/html": [
       "<div>\n",
       "<style scoped>\n",
       "    .dataframe tbody tr th:only-of-type {\n",
       "        vertical-align: middle;\n",
       "    }\n",
       "\n",
       "    .dataframe tbody tr th {\n",
       "        vertical-align: top;\n",
       "    }\n",
       "\n",
       "    .dataframe thead th {\n",
       "        text-align: right;\n",
       "    }\n",
       "</style>\n",
       "<table border=\"1\" class=\"dataframe\">\n",
       "  <thead>\n",
       "    <tr style=\"text-align: right;\">\n",
       "      <th></th>\n",
       "      <th>distance</th>\n",
       "      <th>time</th>\n",
       "    </tr>\n",
       "  </thead>\n",
       "  <tbody>\n",
       "    <tr>\n",
       "      <th>berlin52</th>\n",
       "      <td>17096.532866</td>\n",
       "      <td>3.476370</td>\n",
       "    </tr>\n",
       "    <tr>\n",
       "      <th>pr76</th>\n",
       "      <td>350259.816928</td>\n",
       "      <td>37.161580</td>\n",
       "    </tr>\n",
       "    <tr>\n",
       "      <th>ch150</th>\n",
       "      <td>39643.056827</td>\n",
       "      <td>47.177792</td>\n",
       "    </tr>\n",
       "    <tr>\n",
       "      <th>a280</th>\n",
       "      <td>27613.211269</td>\n",
       "      <td>78.719627</td>\n",
       "    </tr>\n",
       "  </tbody>\n",
       "</table>\n",
       "</div>"
      ],
      "text/plain": [
       "               distance       time\n",
       "berlin52   17096.532866   3.476370\n",
       "pr76      350259.816928  37.161580\n",
       "ch150      39643.056827  47.177792\n",
       "a280       27613.211269  78.719627"
      ]
     },
     "execution_count": 42,
     "metadata": {},
     "output_type": "execute_result"
    }
   ],
   "source": [
    "list_tuples = list(zip(list_dist, list_time))\n",
    "results = pd.DataFrame(list_tuples, columns = ['distance', 'time'], index = ndx)\n",
    "results"
   ]
  },
  {
   "cell_type": "code",
   "execution_count": null,
   "metadata": {},
   "outputs": [],
   "source": []
  },
  {
   "cell_type": "code",
   "execution_count": null,
   "metadata": {},
   "outputs": [],
   "source": []
  },
  {
   "cell_type": "code",
   "execution_count": null,
   "metadata": {},
   "outputs": [],
   "source": []
  },
  {
   "cell_type": "code",
   "execution_count": null,
   "metadata": {},
   "outputs": [],
   "source": []
  },
  {
   "cell_type": "code",
   "execution_count": null,
   "metadata": {},
   "outputs": [],
   "source": []
  },
  {
   "cell_type": "code",
   "execution_count": null,
   "metadata": {},
   "outputs": [],
   "source": []
  }
 ],
 "metadata": {
  "kernelspec": {
   "display_name": "Python 3",
   "language": "python",
   "name": "python3"
  },
  "language_info": {
   "codemirror_mode": {
    "name": "ipython",
    "version": 3
   },
   "file_extension": ".py",
   "mimetype": "text/x-python",
   "name": "python",
   "nbconvert_exporter": "python",
   "pygments_lexer": "ipython3",
   "version": "3.6.4"
  }
 },
 "nbformat": 4,
 "nbformat_minor": 2
}
