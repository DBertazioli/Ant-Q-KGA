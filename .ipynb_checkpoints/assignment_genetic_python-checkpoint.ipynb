{
 "cells": [
  {
   "cell_type": "markdown",
   "metadata": {},
   "source": [
    "## Genetic Algorithm implementation\n",
    "### for Decision Model course project"
   ]
  },
  {
   "cell_type": "markdown",
   "metadata": {},
   "source": [
    "### Implementation"
   ]
  },
  {
   "cell_type": "code",
   "execution_count": 42,
   "metadata": {},
   "outputs": [],
   "source": [
    "#importing required modules\n",
    "import pandas as pd\n",
    "import numpy as np\n",
    "import time\n",
    "import copy\n",
    "import math"
   ]
  },
  {
   "cell_type": "markdown",
   "metadata": {},
   "source": [
    "### Data"
   ]
  },
  {
   "cell_type": "markdown",
   "metadata": {},
   "source": [
    "Per risolvere il problema del Travel Salesman Problem, approcciamo il problema utilizzando i dataset disponibili a http://www.math.uwaterloo.ca/tsp/world/countries.html#%20DJ così da avere una base di confronto.\n",
    "\n",
    "Prima di tutto importiamo i dati:"
   ]
  },
  {
   "cell_type": "code",
   "execution_count": 3,
   "metadata": {},
   "outputs": [
    {
     "data": {
      "text/html": [
       "<div>\n",
       "<style scoped>\n",
       "    .dataframe tbody tr th:only-of-type {\n",
       "        vertical-align: middle;\n",
       "    }\n",
       "\n",
       "    .dataframe tbody tr th {\n",
       "        vertical-align: top;\n",
       "    }\n",
       "\n",
       "    .dataframe thead th {\n",
       "        text-align: right;\n",
       "    }\n",
       "</style>\n",
       "<table border=\"1\" class=\"dataframe\">\n",
       "  <thead>\n",
       "    <tr style=\"text-align: right;\">\n",
       "      <th></th>\n",
       "      <th>x</th>\n",
       "      <th>y</th>\n",
       "    </tr>\n",
       "  </thead>\n",
       "  <tbody>\n",
       "    <tr>\n",
       "      <th>1</th>\n",
       "      <td>11003.6111</td>\n",
       "      <td>42102.5000</td>\n",
       "    </tr>\n",
       "    <tr>\n",
       "      <th>2</th>\n",
       "      <td>11108.6111</td>\n",
       "      <td>42373.8889</td>\n",
       "    </tr>\n",
       "    <tr>\n",
       "      <th>3</th>\n",
       "      <td>11133.3333</td>\n",
       "      <td>42885.8333</td>\n",
       "    </tr>\n",
       "    <tr>\n",
       "      <th>4</th>\n",
       "      <td>11155.8333</td>\n",
       "      <td>42712.5000</td>\n",
       "    </tr>\n",
       "    <tr>\n",
       "      <th>5</th>\n",
       "      <td>11183.3333</td>\n",
       "      <td>42933.3333</td>\n",
       "    </tr>\n",
       "  </tbody>\n",
       "</table>\n",
       "</div>"
      ],
      "text/plain": [
       "            x           y\n",
       "1  11003.6111  42102.5000\n",
       "2  11108.6111  42373.8889\n",
       "3  11133.3333  42885.8333\n",
       "4  11155.8333  42712.5000\n",
       "5  11183.3333  42933.3333"
      ]
     },
     "execution_count": 3,
     "metadata": {},
     "output_type": "execute_result"
    }
   ],
   "source": [
    "df = pd.read_csv(\"38_cities.txt\", header=None, sep = \" \", names = ['x', 'y'], index_col= 0)\n",
    "df.head()"
   ]
  },
  {
   "cell_type": "code",
   "execution_count": 78,
   "metadata": {},
   "outputs": [
    {
     "data": {
      "text/plain": [
       "38"
      ]
     },
     "execution_count": 78,
     "metadata": {},
     "output_type": "execute_result"
    }
   ],
   "source": [
    "len(df)"
   ]
  },
  {
   "cell_type": "markdown",
   "metadata": {},
   "source": [
    "Ora che i dati sono stati importati correttamente generiamo una matrice delle distanze, calcolando la distanza euclidea di ogni punto con tutti gli altri:"
   ]
  },
  {
   "cell_type": "code",
   "execution_count": 79,
   "metadata": {},
   "outputs": [],
   "source": [
    "def dist_matrix(df):\n",
    "    list_of_distances = [] # just to make it simple, probably there are 1k better ways to do this\n",
    "    for point in df.itertuples():\n",
    "        a = point[1]\n",
    "        b = point[2]\n",
    "        for point_s in df.itertuples():\n",
    "            c = point_s[1]\n",
    "            d = point_s[2]\n",
    "            dist = math.sqrt(((a-c)**2) + ((b-d)**2))\n",
    "            list_of_distances.append(dist)\n",
    "    dist_matrix = np.array(list_of_distances) # convertion to array\n",
    "    dist_matrix = np.reshape(dist_matrix, (len(df), len(df))) # reshaping\n",
    "    # dist_matrix.shape # check\n",
    "    return dist_matrix"
   ]
  },
  {
   "cell_type": "code",
   "execution_count": 80,
   "metadata": {},
   "outputs": [
    {
     "data": {
      "text/plain": [
       "array([[   0.        ,  290.99301545,  794.00183127, ..., 1852.35373049,\n",
       "        1624.75194088, 1858.09261272],\n",
       "       [ 290.99301545,    0.        ,  512.54097969, ..., 1598.94551098,\n",
       "        1412.88752368, 1649.18902517],\n",
       "       [ 794.00183127,  512.54097969,    0.        , ..., 1331.29480435,\n",
       "        1288.37008374, 1514.19696932],\n",
       "       ...,\n",
       "       [1852.35373049, 1598.94551098, 1331.29480435, ...,    0.        ,\n",
       "         440.55907953,  444.22745405],\n",
       "       [1624.75194088, 1412.88752368, 1288.37008374, ...,  440.55907953,\n",
       "           0.        ,  236.48918264],\n",
       "       [1858.09261272, 1649.18902517, 1514.19696932, ...,  444.22745405,\n",
       "         236.48918264,    0.        ]])"
      ]
     },
     "execution_count": 80,
     "metadata": {},
     "output_type": "execute_result"
    }
   ],
   "source": [
    "d_matrix = dist_matrix(df)\n",
    "d_matrix"
   ]
  },
  {
   "cell_type": "markdown",
   "metadata": {},
   "source": [
    "### Path length function"
   ]
  },
  {
   "cell_type": "markdown",
   "metadata": {},
   "source": [
    "Con lo scopo di poter calcolare la distanza totale percorsa sulla base del percorso scelto creiamo una funzione che, sulla base della permutazione sottoposta, restituisca la distanza totale percorsa seguendo quel tracciato:"
   ]
  },
  {
   "cell_type": "code",
   "execution_count": 63,
   "metadata": {},
   "outputs": [
    {
     "data": {
      "text/plain": [
       "38"
      ]
     },
     "execution_count": 63,
     "metadata": {},
     "output_type": "execute_result"
    }
   ],
   "source": [
    "permutation = list(range(0,38)) #define  a fake permutation\n",
    "len(permutation)"
   ]
  },
  {
   "cell_type": "code",
   "execution_count": 59,
   "metadata": {},
   "outputs": [],
   "source": [
    "def total_path(dist_matrix, permutation): # also here, maybe there are 1k ways to do this better but...\n",
    "    list_of_dists = []\n",
    "    for x,y in zip(permutation, permutation[1:]): # take the element of the permutation 2 by 2 -> 0,1 - 1,2 - 2,3 ect..\n",
    "        list_of_dists.append(dist_matrix[x, y])\n",
    "    list_of_dists.append(dist_matrix[permutation[-1], permutation[0]]) # take the distance between the last and the first\n",
    "    total = sum(list_of_dists) # total\n",
    "    return total"
   ]
  },
  {
   "cell_type": "code",
   "execution_count": 74,
   "metadata": {},
   "outputs": [
    {
     "data": {
      "text/plain": [
       "17099.017153650082"
      ]
     },
     "execution_count": 74,
     "metadata": {},
     "output_type": "execute_result"
    }
   ],
   "source": [
    "total_path(dist_matrix, permutation) # it works"
   ]
  },
  {
   "cell_type": "markdown",
   "metadata": {},
   "source": [
    "## Algorithms"
   ]
  },
  {
   "cell_type": "markdown",
   "metadata": {},
   "source": [
    "### Genetic Algorithm"
   ]
  },
  {
   "cell_type": "markdown",
   "metadata": {},
   "source": [
    "As a first try, I like to start with the genetic algorithm, having very appreciated it during the explanatory lesson.\n",
    "\n",
    "However, reading the regarding literature, i do not expect it to be particularly fast.\n",
    "I tested it on a 20x5, 100x20 and 500x20 (it becomes quite slow on the last one)."
   ]
  },
  {
   "cell_type": "code",
   "execution_count": 4,
   "metadata": {},
   "outputs": [],
   "source": [
    "%%cython\n",
    "\n",
    "import pandas as pd\n",
    "import numpy as np\n",
    "import time\n",
    "import copy\n",
    "from numpy import zeros\n",
    "\n",
    "cpdef calc_makespan( int [:] perm,int [:,:] times): #,m_seq):\n",
    "    cdef int job_count = len(perm)\n",
    "    cdef int machine_count =len(times[0])\n",
    "    #makespan = [[0] * (machine_count + 1) for _ in range(0, job_count + 1)]\n",
    "    cdef int[:,::1] makespan=zeros((job_count+1,machine_count+1), dtype='int32')\n",
    "    #print(makespan)\n",
    "    #for i, job in enumerate(perm):\n",
    "    for i in range(job_count):\n",
    "        #makespan[i][0]=0\n",
    "        for machine in range(machine_count):\n",
    "            makespan[i + 1][machine + 1] = max(makespan[i][machine + 1], makespan[i + 1][machine]) + times[perm[i]][machine]#times[job][machine]\n",
    "    \n",
    "    return makespan[job_count][machine_count]\n",
    "\n",
    "cpdef GA(int [:,:] df, \n",
    "         int population_size=5000, \n",
    "         double crossover_rate=1.,\n",
    "         double mutation_p=0.1,\n",
    "         double mutation_gen_rate=0.2,\n",
    "         int n_iteration=100\n",
    "        ):\n",
    "    \n",
    "    cdef int job_count=len(df)\n",
    "    cdef int n_mutations=round(job_count*mutation_gen_rate)\n",
    "    \n",
    "    #####################\n",
    "    # create population #\n",
    "    #####################\n",
    "    \n",
    "    best_makespan=1000000000\n",
    "    best_list,best_obj=[],[]\n",
    "    population=[]\n",
    "    \n",
    "    for i in range(population_size):\n",
    "        \n",
    "        nxm_random_num=list(np.random.permutation(job_count)) # generate a random permutation\n",
    "        population.append(nxm_random_num) # insert in population\n",
    "\n",
    "    for n in range(n_iteration):\n",
    "        \n",
    "        curr_best_makespan=1000000000           \n",
    "        \n",
    "        #############\n",
    "        # crossover #\n",
    "        #############\n",
    "        \n",
    "        parents=copy.deepcopy(population) #better use deecopy for dereferentiation/\n",
    "        mut_list=copy.deepcopy(population)\n",
    "        rand_seq=list(np.random.permutation(population_size)) # random sequence for the crossover\n",
    "\n",
    "        for m in range(int(population_size/2)):\n",
    "            \n",
    "            crossover_trhs=np.random.rand()\n",
    "            \n",
    "            if crossover_rate>=crossover_trhs:\n",
    "            \n",
    "                p1= population[rand_seq[2*m]][:]\n",
    "                p2= population[rand_seq[2*m+1]][:]\n",
    "                first_child=['na' for i in range(job_count)]\n",
    "                second_child=['na' for i in range(job_count)]\n",
    "                c=round(job_count/2)\n",
    "                swap_ind=list(np.random.choice(job_count, c, replace=False))\n",
    "\n",
    "                for index in range(c):\n",
    "                \n",
    "                    first_child[swap_ind[index]]=p2[swap_ind[index]]\n",
    "                    second_child[swap_ind[index]]=p1[swap_ind[index]]\n",
    "                \n",
    "                c1=[p1[i] for i in range(job_count) if p1[i] not in first_child]\n",
    "                c2=[p2[i] for i in range(job_count) if p2[i] not in second_child]\n",
    "\n",
    "                for i in range(job_count-c):\n",
    "                \n",
    "                    first_child[first_child.index('na')]=c1[i]\n",
    "                    second_child[second_child.index('na')]=c2[i]\n",
    "                \n",
    "                mut_list[rand_seq[2*m]]=first_child[:]\n",
    "                mut_list[rand_seq[2*m+1]]=second_child[:]\n",
    "        \n",
    "        ############\n",
    "        # mutation #\n",
    "        ############\n",
    "        \n",
    "        for m in range(len(mut_list)):\n",
    "            \n",
    "            mut_thrs=np.random.rand()\n",
    "            \n",
    "            if mutation_p >= mut_thrs:\n",
    "                # chooses the mutation pos.\n",
    "                swap_ind=list(np.random.choice(job_count, n_mutations, replace=False)) \n",
    "                tmp_swap=mut_list[m][swap_ind[0]] \n",
    "                \n",
    "                for i in range(n_mutations-1):\n",
    "                    mut_list[m][swap_ind[i]]=mut_list[m][swap_ind[i+1]] #shifting (might be ameliorated)\n",
    "\n",
    "                mut_list[m][swap_ind[n_mutations-1]]=tmp_swap \n",
    "\n",
    "        #######################\n",
    "        # fitness calculation #\n",
    "        #######################\n",
    "        \n",
    "        gene_fin=copy.deepcopy(parents)+copy.deepcopy(mut_list) #parent and mutated\n",
    "        gene_fitness,gene_fit=[],[]\n",
    "        fitness=0\n",
    "        mks=[0 for elem in range(2*population_size)]\n",
    "        \n",
    "        for c in range(2*population_size):\n",
    "            mks[c]=calc_makespan(np.array(gene_fin[c], dtype=\"int32\"),df)\n",
    "            gene_fitness.append(1/mks[c])\n",
    "            gene_fit.append(mks[c])\n",
    "            fitness+=gene_fitness[c]\n",
    "        \n",
    "        #########################\n",
    "        # individuals selection #\n",
    "        #########################\n",
    "        \n",
    "        ind_fit_list,cum_fit_list=[],[]\n",
    "\n",
    "        for i in range(population_size*2):\n",
    "            ind_fit_list.append(gene_fitness[i]/fitness)\n",
    "        for i in range(population_size*2):\n",
    "            cum_sum=0\n",
    "            for j in range(0,i+1):\n",
    "                cum_sum=cum_sum+ind_fit_list[j]\n",
    "            cum_fit_list.append(cum_sum)\n",
    "\n",
    "        rand_sel=[np.random.rand() for i in range(population_size)]\n",
    "\n",
    "        for i in range(population_size):\n",
    "            if rand_sel[i]<=cum_fit_list[0]:\n",
    "                population[i]=copy.deepcopy(gene_fin[0])\n",
    "                break\n",
    "            else:\n",
    "                for j in range(0,population_size*2-1):\n",
    "                    if rand_sel[i]>cum_fit_list[j] and rand_sel[i]<=cum_fit_list[j+1]:\n",
    "                        population[i]=copy.deepcopy(gene_fin[j+1])\n",
    "        \n",
    "        ##########################\n",
    "        # updating best makespan #\n",
    "        ##########################\n",
    "        \n",
    "        for i in range(population_size*2):\n",
    "            if gene_fit[i]<curr_best_makespan:\n",
    "                curr_best_makespan=gene_fit[i]\n",
    "                now_perm=copy.deepcopy(gene_fin[i])\n",
    "\n",
    "        if curr_best_makespan<=best_makespan:\n",
    "            best_makespan=curr_best_makespan\n",
    "            best_perm=copy.deepcopy(now_perm)\n",
    "    \n",
    "    \n",
    "    print(\"best permutation\",best_perm)\n",
    "    print(\"best makespan:%f\"%best_makespan)\n",
    "    return best_perm,best_makespan"
   ]
  },
  {
   "cell_type": "markdown",
   "metadata": {},
   "source": [
    "Testing with the 20x5 matrix"
   ]
  },
  {
   "cell_type": "code",
   "execution_count": 12,
   "metadata": {},
   "outputs": [
    {
     "name": "stdout",
     "output_type": "stream",
     "text": [
      "best permutation [14, 8, 18, 5, 13, 2, 1, 0, 6, 7, 15, 3, 4, 17, 11, 16, 10, 12, 9, 19]\n",
      "best makespan:1306.000000\n"
     ]
    },
    {
     "data": {
      "text/plain": [
       "([14, 8, 18, 5, 13, 2, 1, 0, 6, 7, 15, 3, 4, 17, 11, 16, 10, 12, 9, 19], 1306)"
      ]
     },
     "execution_count": 12,
     "metadata": {},
     "output_type": "execute_result"
    }
   ],
   "source": [
    "GA(m, n_iteration=1)"
   ]
  },
  {
   "cell_type": "code",
   "execution_count": 41,
   "metadata": {},
   "outputs": [
    {
     "name": "stdout",
     "output_type": "stream",
     "text": [
      "best permutation [0, 7, 16, 1, 5, 15, 8, 12, 13, 3, 2, 14, 18, 11, 4, 17, 10, 9, 6, 19]\n",
      "best makespan:1322.000000\n"
     ]
    },
    {
     "data": {
      "text/plain": [
       "([0, 7, 16, 1, 5, 15, 8, 12, 13, 3, 2, 14, 18, 11, 4, 17, 10, 9, 6, 19], 1322)"
      ]
     },
     "execution_count": 41,
     "metadata": {},
     "output_type": "execute_result"
    }
   ],
   "source": [
    "GA(m, n_iteration=10)"
   ]
  },
  {
   "cell_type": "markdown",
   "metadata": {},
   "source": [
    "As we anticipated, the performances seems not to be so great.\n",
    "\n",
    "After reading some literature, I tried some parameters tuning (as indicated e.g. in \"Khan, Bazul & Govindan, Kannan & Jeyapaul, R. (2010 IJAOM).\n",
    "\n",
    "However, the results did not change so much, so that after comparing with the python library \"pyeasyga\", whose algorithm results were similar to those obtained previously, i tried out other algorithm."
   ]
  },
  {
   "cell_type": "code",
   "execution_count": 27,
   "metadata": {},
   "outputs": [],
   "source": [
    "import random\n",
    "from pyeasyga import pyeasyga\n",
    "\n",
    "# setup seed data\n",
    "data=list(range(no_of_jobs))\n",
    "\n",
    "# initialise the GA\n",
    "ga = pyeasyga.GeneticAlgorithm(seq.tolist(),\n",
    "                            population_size=200,\n",
    "                            generations=100,\n",
    "                            crossover_probability=0.8,\n",
    "                            mutation_probability=0.1,\n",
    "                            elitism=True,\n",
    "                            maximise_fitness=True)\n",
    "\n",
    "# define and set function to create a candidate solution representation\n",
    "def create_individual(data):\n",
    "    individual = data[:]\n",
    "    random.shuffle(individual)\n",
    "    return individual\n",
    "\n",
    "ga.create_individual = create_individual\n",
    "\n",
    "# define and set the GA's crossover operation\n",
    "def crossover(parent_1, parent_2):\n",
    "    crossover_index = random.randrange(1, len(parent_1))\n",
    "    child_1a = parent_1[:crossover_index]\n",
    "    child_1b = [i for i in parent_2 if i not in child_1a]\n",
    "    child_1 = child_1a + child_1b\n",
    "\n",
    "    child_2a = parent_2[crossover_index:]\n",
    "    child_2b = [i for i in parent_1 if i not in child_2a]\n",
    "    child_2 = child_2a + child_2b\n",
    "    \n",
    "    return child_1, child_2\n",
    "\n",
    "ga.crossover_function = crossover\n",
    "\n",
    "# define and set the GA's mutation operation\n",
    "def mutate(individual):\n",
    "    mutate_index1 = random.randrange(len(individual))\n",
    "    mutate_index2 = random.randrange(len(individual))\n",
    "    individual[mutate_index1], individual[mutate_index2] = individual[mutate_index2], individual[mutate_index1]\n",
    "\n",
    "ga.mutate_function = mutate\n",
    "\n",
    "# define and set the GA's selection operation\n",
    "def selection(population):\n",
    "    #print(population)\n",
    "    \n",
    "    return random.choice(population)\n",
    "\n",
    "ga.selection_function = selection\n",
    "\n",
    "# define a fitness function\n",
    "def fitness (individual, data):\n",
    "    fitness=0\n",
    "    v=calc_makespan(np.array(individual, dtype=\"int32\"), m)\n",
    "    fitness+= 1/v\n",
    "    return fitness\n",
    "ga.fitness_function = fitness       # set the GA's fitness function"
   ]
  },
  {
   "cell_type": "code",
   "execution_count": 25,
   "metadata": {},
   "outputs": [],
   "source": [
    "ga.run()                            # run the GA"
   ]
  },
  {
   "cell_type": "code",
   "execution_count": 30,
   "metadata": {},
   "outputs": [
    {
     "data": {
      "text/plain": [
       "(1297, [16, 14, 2, 18, 12, 10, 13, 15, 0, 17, 8, 5, 6, 1, 3, 4, 7, 11, 9, 19])"
      ]
     },
     "execution_count": 30,
     "metadata": {},
     "output_type": "execute_result"
    }
   ],
   "source": [
    "fit, sel_perm = ga.best_individual()\n",
    "calc_makespan(np.array(sel_perm, dtype=\"int32\"), m), sel_perm"
   ]
  },
  {
   "cell_type": "markdown",
   "metadata": {},
   "source": [
    "Which is not an horrible result, but it can be explained by the few iterations done (not having some great computational power), and probably by the not-optimal choice of the algorithm parameters  "
   ]
  }
 ],
 "metadata": {
  "kernelspec": {
   "display_name": "Python 3",
   "language": "python",
   "name": "python3"
  },
  "language_info": {
   "codemirror_mode": {
    "name": "ipython",
    "version": 3
   },
   "file_extension": ".py",
   "mimetype": "text/x-python",
   "name": "python",
   "nbconvert_exporter": "python",
   "pygments_lexer": "ipython3",
   "version": "3.6.4"
  }
 },
 "nbformat": 4,
 "nbformat_minor": 2
}
