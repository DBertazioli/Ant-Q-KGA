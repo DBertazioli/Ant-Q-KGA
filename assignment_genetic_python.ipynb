{
 "cells": [
  {
   "cell_type": "markdown",
   "metadata": {},
   "source": [
    "## Genetic Algorithm implementation\n",
    "### for Decision Model course project"
   ]
  },
  {
   "cell_type": "markdown",
   "metadata": {},
   "source": [
    "### Implementation"
   ]
  },
  {
   "cell_type": "code",
   "execution_count": 1,
   "metadata": {},
   "outputs": [],
   "source": [
    "#importing required modules\n",
    "import pandas as pd\n",
    "import numpy as np\n",
    "import time\n",
    "import copy\n",
    "import math"
   ]
  },
  {
   "cell_type": "markdown",
   "metadata": {},
   "source": [
    "### Data"
   ]
  },
  {
   "cell_type": "markdown",
   "metadata": {},
   "source": [
    "Per risolvere il problema del Travel Salesman Problem, approcciamo il problema utilizzando i dataset disponibili a http://www.math.uwaterloo.ca/tsp/world/countries.html#%20DJ così da avere una base di confronto.\n",
    "\n",
    "Prima di tutto importiamo i dati:"
   ]
  },
  {
   "cell_type": "code",
   "execution_count": 75,
   "metadata": {},
   "outputs": [
    {
     "data": {
      "text/html": [
       "<div>\n",
       "<style scoped>\n",
       "    .dataframe tbody tr th:only-of-type {\n",
       "        vertical-align: middle;\n",
       "    }\n",
       "\n",
       "    .dataframe tbody tr th {\n",
       "        vertical-align: top;\n",
       "    }\n",
       "\n",
       "    .dataframe thead th {\n",
       "        text-align: right;\n",
       "    }\n",
       "</style>\n",
       "<table border=\"1\" class=\"dataframe\">\n",
       "  <thead>\n",
       "    <tr style=\"text-align: right;\">\n",
       "      <th></th>\n",
       "      <th>1</th>\n",
       "      <th>2</th>\n",
       "      <th>3</th>\n",
       "      <th>4</th>\n",
       "      <th>5</th>\n",
       "      <th>6</th>\n",
       "      <th>7</th>\n",
       "      <th>8</th>\n",
       "      <th>9</th>\n",
       "      <th>10</th>\n",
       "      <th>...</th>\n",
       "      <th>20</th>\n",
       "      <th>21</th>\n",
       "      <th>22</th>\n",
       "      <th>23</th>\n",
       "      <th>24</th>\n",
       "      <th>25</th>\n",
       "      <th>26</th>\n",
       "      <th>27</th>\n",
       "      <th>28</th>\n",
       "      <th>29</th>\n",
       "    </tr>\n",
       "  </thead>\n",
       "  <tbody>\n",
       "    <tr>\n",
       "      <th>0</th>\n",
       "      <td>0</td>\n",
       "      <td>107</td>\n",
       "      <td>241</td>\n",
       "      <td>190</td>\n",
       "      <td>124</td>\n",
       "      <td>80</td>\n",
       "      <td>316</td>\n",
       "      <td>76</td>\n",
       "      <td>152</td>\n",
       "      <td>157</td>\n",
       "      <td>...</td>\n",
       "      <td>150</td>\n",
       "      <td>65</td>\n",
       "      <td>341</td>\n",
       "      <td>184</td>\n",
       "      <td>67</td>\n",
       "      <td>221</td>\n",
       "      <td>169</td>\n",
       "      <td>108</td>\n",
       "      <td>45</td>\n",
       "      <td>167</td>\n",
       "    </tr>\n",
       "    <tr>\n",
       "      <th>1</th>\n",
       "      <td>107</td>\n",
       "      <td>0</td>\n",
       "      <td>148</td>\n",
       "      <td>137</td>\n",
       "      <td>88</td>\n",
       "      <td>127</td>\n",
       "      <td>336</td>\n",
       "      <td>183</td>\n",
       "      <td>134</td>\n",
       "      <td>95</td>\n",
       "      <td>...</td>\n",
       "      <td>67</td>\n",
       "      <td>42</td>\n",
       "      <td>278</td>\n",
       "      <td>271</td>\n",
       "      <td>146</td>\n",
       "      <td>251</td>\n",
       "      <td>105</td>\n",
       "      <td>191</td>\n",
       "      <td>139</td>\n",
       "      <td>79</td>\n",
       "    </tr>\n",
       "    <tr>\n",
       "      <th>2</th>\n",
       "      <td>241</td>\n",
       "      <td>148</td>\n",
       "      <td>0</td>\n",
       "      <td>374</td>\n",
       "      <td>171</td>\n",
       "      <td>259</td>\n",
       "      <td>509</td>\n",
       "      <td>317</td>\n",
       "      <td>217</td>\n",
       "      <td>232</td>\n",
       "      <td>...</td>\n",
       "      <td>204</td>\n",
       "      <td>182</td>\n",
       "      <td>435</td>\n",
       "      <td>417</td>\n",
       "      <td>292</td>\n",
       "      <td>424</td>\n",
       "      <td>116</td>\n",
       "      <td>337</td>\n",
       "      <td>273</td>\n",
       "      <td>77</td>\n",
       "    </tr>\n",
       "    <tr>\n",
       "      <th>3</th>\n",
       "      <td>190</td>\n",
       "      <td>137</td>\n",
       "      <td>374</td>\n",
       "      <td>0</td>\n",
       "      <td>202</td>\n",
       "      <td>234</td>\n",
       "      <td>222</td>\n",
       "      <td>192</td>\n",
       "      <td>248</td>\n",
       "      <td>42</td>\n",
       "      <td>...</td>\n",
       "      <td>70</td>\n",
       "      <td>137</td>\n",
       "      <td>151</td>\n",
       "      <td>239</td>\n",
       "      <td>135</td>\n",
       "      <td>137</td>\n",
       "      <td>242</td>\n",
       "      <td>165</td>\n",
       "      <td>228</td>\n",
       "      <td>205</td>\n",
       "    </tr>\n",
       "    <tr>\n",
       "      <th>4</th>\n",
       "      <td>124</td>\n",
       "      <td>88</td>\n",
       "      <td>171</td>\n",
       "      <td>202</td>\n",
       "      <td>0</td>\n",
       "      <td>61</td>\n",
       "      <td>392</td>\n",
       "      <td>202</td>\n",
       "      <td>46</td>\n",
       "      <td>160</td>\n",
       "      <td>...</td>\n",
       "      <td>155</td>\n",
       "      <td>65</td>\n",
       "      <td>366</td>\n",
       "      <td>300</td>\n",
       "      <td>175</td>\n",
       "      <td>307</td>\n",
       "      <td>57</td>\n",
       "      <td>220</td>\n",
       "      <td>121</td>\n",
       "      <td>97</td>\n",
       "    </tr>\n",
       "  </tbody>\n",
       "</table>\n",
       "<p>5 rows × 29 columns</p>\n",
       "</div>"
      ],
      "text/plain": [
       "    1    2    3    4    5    6    7    8    9    10 ...    20   21   22   23  \\\n",
       "0    0  107  241  190  124   80  316   76  152  157 ...   150   65  341  184   \n",
       "1  107    0  148  137   88  127  336  183  134   95 ...    67   42  278  271   \n",
       "2  241  148    0  374  171  259  509  317  217  232 ...   204  182  435  417   \n",
       "3  190  137  374    0  202  234  222  192  248   42 ...    70  137  151  239   \n",
       "4  124   88  171  202    0   61  392  202   46  160 ...   155   65  366  300   \n",
       "\n",
       "    24   25   26   27   28   29  \n",
       "0   67  221  169  108   45  167  \n",
       "1  146  251  105  191  139   79  \n",
       "2  292  424  116  337  273   77  \n",
       "3  135  137  242  165  228  205  \n",
       "4  175  307   57  220  121   97  \n",
       "\n",
       "[5 rows x 29 columns]"
      ]
     },
     "execution_count": 75,
     "metadata": {},
     "output_type": "execute_result"
    }
   ],
   "source": [
    "df = pd.read_csv(\"bays29.tsp\", header=None, sep = \" \")\n",
    "df.drop(0, axis = 1, inplace = True)\n",
    "df.head()"
   ]
  },
  {
   "cell_type": "code",
   "execution_count": 86,
   "metadata": {},
   "outputs": [
    {
     "data": {
      "text/plain": [
       "29"
      ]
     },
     "execution_count": 86,
     "metadata": {},
     "output_type": "execute_result"
    }
   ],
   "source": [
    "len(df)"
   ]
  },
  {
   "cell_type": "code",
   "execution_count": 79,
   "metadata": {},
   "outputs": [],
   "source": [
    "d_matrix = np.array(df)\n",
    "d_matrix = np.reshape(d_matrix, (len(df),len(df)))\n",
    "# d_matrix"
   ]
  },
  {
   "cell_type": "markdown",
   "metadata": {},
   "source": [
    "Ora che i dati sono stati importati correttamente generiamo una matrice delle distanze, calcolando la distanza euclidea di ogni punto con tutti gli altri:"
   ]
  },
  {
   "cell_type": "code",
   "execution_count": 69,
   "metadata": {},
   "outputs": [],
   "source": [
    "# def dist_matrix(df):\n",
    "#     list_of_distances = [] # just to make it simple, probably there are 1k better ways to do this\n",
    "#     for point in df.itertuples():\n",
    "#         a = point[1]\n",
    "#         b = point[2]\n",
    "#         for point_s in df.itertuples():\n",
    "#             c = point_s[1]\n",
    "#             d = point_s[2]\n",
    "#            # dist = math.sqrt(((c-a)**2) + ((d-b)**2))\n",
    "#             dist = max(abs(c-a), abs(d-b))\n",
    "#             list_of_distances.append(dist)\n",
    "#     dist_matrix = np.array(list_of_distances) # convertion to array\n",
    "#     dist_matrix = np.reshape(dist_matrix, (len(df), len(df))) # reshaping\n",
    "#     # dist_matrix.shape # check\n",
    "#     return dist_matrix"
   ]
  },
  {
   "cell_type": "code",
   "execution_count": 70,
   "metadata": {},
   "outputs": [
    {
     "data": {
      "text/plain": [
       "array([[   0.,  520., 1110.,  660.,  400.,  310., 1110.,  340.,  500.,\n",
       "         450., 1210.,  540.,  420., 1060.,  860.,  560., 1170.,  900.,\n",
       "         810.,  560.,  320., 1260.,  690.,  260.,  970.,  660.,  340.,\n",
       "         150.,  790.],\n",
       "       [ 520.,    0.,  590.,  560.,  370.,  410., 1020.,  860.,  600.,\n",
       "         350., 1110.,  640.,  340.,  960.,  760.,  650., 1070.,  800.,\n",
       "         710.,  270.,  200., 1160., 1210.,  630.,  870.,  470.,  830.,\n",
       "         630.,  320.],\n",
       "       [1110.,  590.,    0.,  990.,  710.,  990., 1610., 1450.,  750.,\n",
       "         780., 1540., 1130.,  930., 1390., 1190., 1240., 1500., 1230.,\n",
       "        1140.,  700.,  790., 1590., 1800., 1220., 1300.,  450., 1420.,\n",
       "        1220.,  320.],\n",
       "       [ 660.,  560.,  990.,    0.,  930.,  970.,  900.,  740., 1160.,\n",
       "         210.,  550., 1200.,  240.,  400.,  200.,  530.,  520.,  290.,\n",
       "         290.,  290.,  670.,  600., 1090.,  510.,  530., 1030.,  710.,\n",
       "         810.,  880.],\n",
       "       [ 400.,  370.,  710.,  930.,    0.,  280., 1380.,  740.,  230.,\n",
       "         720., 1480.,  420.,  690., 1330., 1130.,  830., 1440., 1170.,\n",
       "        1080.,  640.,  260., 1530., 1090.,  530., 1240.,  260.,  710.,\n",
       "         510.,  390.],\n",
       "       [ 310.,  410.,  990.,  970.,  280.,    0., 1420.,  460.,  240.,\n",
       "         760., 1520.,  230.,  730., 1370., 1170.,  870., 1480., 1210.,\n",
       "        1120.,  680.,  300., 1570.,  830.,  570., 1280.,  540.,  650.,\n",
       "         230.,  670.],\n",
       "       [1110., 1020., 1610.,  900., 1380., 1420.,    0.,  980., 1610.,\n",
       "         940.,  810., 1650.,  690., 1140.,  900.,  550., 1420., 1190.,\n",
       "         610., 1060., 1120., 1160.,  590.,  850.,  370., 1480.,  770.,\n",
       "        1260., 1330.],\n",
       "       [ 340.,  860., 1450.,  740.,  740.,  460.,  980.,    0.,  700.,\n",
       "         780., 1080.,  670.,  520.,  980.,  740.,  430., 1260., 1030.,\n",
       "         680.,  900.,  660., 1130.,  390.,  230.,  840., 1000.,  210.,\n",
       "         280., 1130.],\n",
       "       [ 500.,  600.,  750., 1160.,  230.,  240., 1610.,  700.,    0.,\n",
       "         950., 1710.,  380.,  920., 1560., 1360., 1060., 1670., 1400.,\n",
       "        1310.,  870.,  490., 1760., 1050.,  760., 1470.,  300.,  840.,\n",
       "         470.,  430.],\n",
       "       [ 450.,  350.,  780.,  210.,  720.,  760.,  940.,  780.,  950.,\n",
       "           0.,  760.,  990.,  260.,  610.,  410.,  570.,  720.,  450.,\n",
       "         360.,  120.,  460.,  810., 1130.,  550.,  570.,  820.,  750.,\n",
       "         600.,  670.],\n",
       "       [1210., 1110., 1540.,  550., 1480., 1520.,  810., 1080., 1710.,\n",
       "         760.,    0., 1750.,  790.,  330.,  350.,  650.,  610.,  380.,\n",
       "         400.,  840., 1220.,  350., 1000.,  950.,  440., 1580.,  870.,\n",
       "        1360., 1430.],\n",
       "       [ 540.,  640., 1130., 1200.,  420.,  230., 1650.,  670.,  380.,\n",
       "         990., 1750.,    0.,  960., 1600., 1400., 1100., 1710., 1440.,\n",
       "        1350.,  910.,  530., 1800., 1060.,  800., 1510.,  680.,  880.,\n",
       "         390.,  810.],\n",
       "       [ 420.,  340.,  930.,  240.,  690.,  730.,  690.,  520.,  920.,\n",
       "         260.,  790.,  960.,    0.,  640.,  440.,  310.,  750.,  510.,\n",
       "         390.,  380.,  430.,  840.,  870.,  290.,  550.,  790.,  490.,\n",
       "         570.,  640.],\n",
       "       [1060.,  960., 1390.,  400., 1330., 1370., 1140.,  980., 1560.,\n",
       "         610.,  330., 1600.,  640.,    0.,  240.,  770.,  280.,  160.,\n",
       "         530.,  690., 1070.,  200., 1330.,  800.,  770., 1430.,  950.,\n",
       "        1210., 1280.],\n",
       "       [ 860.,  760., 1190.,  200., 1130., 1170.,  900.,  740., 1360.,\n",
       "         410.,  350., 1400.,  440.,  240.,    0.,  530.,  520.,  290.,\n",
       "         290.,  490.,  870.,  400., 1090.,  600.,  530., 1230.,  710.,\n",
       "        1010., 1080.],\n",
       "       [ 560.,  650., 1240.,  530.,  830.,  870.,  550.,  430., 1060.,\n",
       "         570.,  650., 1100.,  310.,  770.,  530.,    0., 1050.,  820.,\n",
       "         250.,  690.,  570.,  790.,  560.,  300.,  410.,  930.,  220.,\n",
       "         710.,  920.],\n",
       "       [1170., 1070., 1500.,  520., 1440., 1480., 1420., 1260., 1670.,\n",
       "         720.,  610., 1710.,  750.,  280.,  520., 1050.,    0.,  270.,\n",
       "         810.,  800., 1180.,  260., 1610., 1030., 1050., 1540., 1230.,\n",
       "        1320., 1390.],\n",
       "       [ 900.,  800., 1230.,  290., 1170., 1210., 1190., 1030., 1400.,\n",
       "         450.,  380., 1440.,  510.,  160.,  290.,  820.,  270.,    0.,\n",
       "         580.,  530.,  910.,  360., 1380.,  800.,  820., 1270., 1000.,\n",
       "        1050., 1120.],\n",
       "       [ 810.,  710., 1140.,  290., 1080., 1120.,  610.,  680., 1310.,\n",
       "         360.,  400., 1350.,  390.,  530.,  290.,  250.,  810.,  580.,\n",
       "           0.,  450.,  820.,  550.,  800.,  550.,  240., 1180.,  470.,\n",
       "         960., 1030.],\n",
       "       [ 560.,  270.,  700.,  290.,  640.,  680., 1060.,  900.,  870.,\n",
       "         120.,  840.,  910.,  380.,  690.,  490.,  690.,  800.,  530.,\n",
       "         450.,    0.,  380.,  890., 1250.,  670.,  690.,  740.,  870.,\n",
       "         670.,  590.],\n",
       "       [ 320.,  200.,  790.,  670.,  260.,  300., 1120.,  660.,  490.,\n",
       "         460., 1220.,  530.,  430., 1070.,  870.,  570., 1180.,  910.,\n",
       "         820.,  380.,    0., 1270., 1010.,  430.,  980.,  360.,  630.,\n",
       "         430.,  470.],\n",
       "       [1260., 1160., 1590.,  600., 1530., 1570., 1160., 1130., 1760.,\n",
       "         810.,  350., 1800.,  840.,  200.,  400.,  790.,  260.,  360.,\n",
       "         550.,  890., 1270.,    0., 1350., 1000.,  790., 1630.,  970.,\n",
       "        1410., 1480.],\n",
       "       [ 690., 1210., 1800., 1090., 1090.,  830.,  590.,  390., 1050.,\n",
       "        1130., 1000., 1060.,  870., 1330., 1090.,  560., 1610., 1380.,\n",
       "         800., 1250., 1010., 1350.,    0.,  580.,  560., 1350.,  380.,\n",
       "         670., 1480.],\n",
       "       [ 260.,  630., 1220.,  510.,  530.,  570.,  850.,  230.,  760.,\n",
       "         550.,  950.,  800.,  290.,  800.,  600.,  300., 1030.,  800.,\n",
       "         550.,  670.,  430., 1000.,  580.,    0.,  710.,  770.,  200.,\n",
       "         410.,  900.],\n",
       "       [ 970.,  870., 1300.,  530., 1240., 1280.,  370.,  840., 1470.,\n",
       "         570.,  440., 1510.,  550.,  770.,  530.,  410., 1050.,  820.,\n",
       "         240.,  690.,  980.,  790.,  560.,  710.,    0., 1340.,  630.,\n",
       "        1120., 1190.],\n",
       "       [ 660.,  470.,  450., 1030.,  260.,  540., 1480., 1000.,  300.,\n",
       "         820., 1580.,  680.,  790., 1430., 1230.,  930., 1540., 1270.,\n",
       "        1180.,  740.,  360., 1630., 1350.,  770., 1340.,    0.,  970.,\n",
       "         770.,  150.],\n",
       "       [ 340.,  830., 1420.,  710.,  710.,  650.,  770.,  210.,  840.,\n",
       "         750.,  870.,  880.,  490.,  950.,  710.,  220., 1230., 1000.,\n",
       "         470.,  870.,  630.,  970.,  380.,  200.,  630.,  970.,    0.,\n",
       "         490., 1100.],\n",
       "       [ 150.,  630., 1220.,  810.,  510.,  230., 1260.,  280.,  470.,\n",
       "         600., 1360.,  390.,  570., 1210., 1010.,  710., 1320., 1050.,\n",
       "         960.,  670.,  430., 1410.,  670.,  410., 1120.,  770.,  490.,\n",
       "           0.,  900.],\n",
       "       [ 790.,  320.,  320.,  880.,  390.,  670., 1330., 1130.,  430.,\n",
       "         670., 1430.,  810.,  640., 1280., 1080.,  920., 1390., 1120.,\n",
       "        1030.,  590.,  470., 1480., 1480.,  900., 1190.,  150., 1100.,\n",
       "         900.,    0.]])"
      ]
     },
     "execution_count": 70,
     "metadata": {},
     "output_type": "execute_result"
    }
   ],
   "source": [
    "# d_matrix = dist_matrix(df)\n",
    "# d_matrix"
   ]
  },
  {
   "cell_type": "markdown",
   "metadata": {},
   "source": [
    "### Path length function"
   ]
  },
  {
   "cell_type": "markdown",
   "metadata": {},
   "source": [
    "Con lo scopo di poter calcolare la distanza totale percorsa sulla base del percorso scelto creiamo una funzione che, sulla base della permutazione sottoposta, restituisca la distanza totale percorsa seguendo quel tracciato:"
   ]
  },
  {
   "cell_type": "code",
   "execution_count": 89,
   "metadata": {},
   "outputs": [
    {
     "data": {
      "text/plain": [
       "29"
      ]
     },
     "execution_count": 89,
     "metadata": {},
     "output_type": "execute_result"
    }
   ],
   "source": [
    "permutation = list(range(0,len(df))) #define  a fake permutation\n",
    "len(permutation)"
   ]
  },
  {
   "cell_type": "code",
   "execution_count": 100,
   "metadata": {},
   "outputs": [],
   "source": [
    "def total_path(dist_matrix, permutation): # also here, maybe there are 1k ways to do this better but...\n",
    "    # list_of_dists = []\n",
    "    total = 0\n",
    "    for x,y in zip(permutation, permutation[1:]): # take the element of the permutation 2 by 2 -> 0,1 - 1,2 - 2,3 ect..\n",
    "        # list_of_dists.append(dist_matrix[x, y])\n",
    "        total += dist_matrix[x, y]\n",
    "    # list_of_dists.append(dist_matrix[permutation[-1], permutation[0]]) # take the distance between the last and the first\n",
    "    #[total += dist_matrix[x, y] for x,y in zip(permutation, permutation[1:])]\n",
    "    total += dist_matrix[permutation[-1], permutation[0]]\n",
    "    # total = sum(list_of_dists) # total\n",
    "    return total"
   ]
  },
  {
   "cell_type": "code",
   "execution_count": 97,
   "metadata": {},
   "outputs": [
    {
     "name": "stdout",
     "output_type": "stream",
     "text": [
      "19.7 µs ± 1.91 µs per loop (mean ± std. dev. of 7 runs, 10000 loops each)\n"
     ]
    }
   ],
   "source": [
    "%timeit total_path(d_matrix, permutation)"
   ]
  },
  {
   "cell_type": "code",
   "execution_count": 101,
   "metadata": {},
   "outputs": [
    {
     "data": {
      "text/plain": [
       "5752"
      ]
     },
     "execution_count": 101,
     "metadata": {},
     "output_type": "execute_result"
    }
   ],
   "source": [
    "total_path(d_matrix, permutation) # it works"
   ]
  },
  {
   "cell_type": "markdown",
   "metadata": {},
   "source": [
    "## Algorithms"
   ]
  },
  {
   "cell_type": "markdown",
   "metadata": {},
   "source": [
    "### Genetic Algorithm"
   ]
  },
  {
   "cell_type": "markdown",
   "metadata": {},
   "source": [
    "As a first try, I like to start with the genetic algorithm, having very appreciated it during the explanatory lesson.\n",
    "\n",
    "However, reading the regarding literature, i do not expect it to be particularly fast.\n",
    "I tested it on a 20x5, 100x20 and 500x20 (it becomes quite slow on the last one)."
   ]
  },
  {
   "cell_type": "code",
   "execution_count": 23,
   "metadata": {},
   "outputs": [],
   "source": [
    "# %load_ext cython"
   ]
  },
  {
   "cell_type": "code",
   "execution_count": 26,
   "metadata": {},
   "outputs": [
    {
     "name": "stderr",
     "output_type": "stream",
     "text": [
      "warning: C:\\Users\\fabri\\.ipython\\cython\\_cython_magic_11cb3a46c6533a816804f1de01b3febd.pyx:25:41: Index should be typed for more efficient access\n"
     ]
    },
    {
     "ename": "DistutilsPlatformError",
     "evalue": "Unable to find vcvarsall.bat",
     "output_type": "error",
     "traceback": [
      "\u001b[1;31m---------------------------------------------------------------------------\u001b[0m",
      "\u001b[1;31mDistutilsPlatformError\u001b[0m                    Traceback (most recent call last)",
      "\u001b[1;32m<ipython-input-26-80187bf12cc7>\u001b[0m in \u001b[0;36m<module>\u001b[1;34m()\u001b[0m\n\u001b[1;32m----> 1\u001b[1;33m \u001b[0mget_ipython\u001b[0m\u001b[1;33m(\u001b[0m\u001b[1;33m)\u001b[0m\u001b[1;33m.\u001b[0m\u001b[0mrun_cell_magic\u001b[0m\u001b[1;33m(\u001b[0m\u001b[1;34m'cython'\u001b[0m\u001b[1;33m,\u001b[0m \u001b[1;34m''\u001b[0m\u001b[1;33m,\u001b[0m \u001b[1;34m'\\nimport pandas as pd\\nimport numpy as np\\nimport time\\nimport copy\\nfrom numpy import zeros\\n\\n# cpdef calc_makespan( int [:] perm,int [:,:] times): #,m_seq):\\n#     cdef int job_count = len(perm)\\n#     cdef int machine_count =len(times[0])\\n#     #makespan = [[0] * (machine_count + 1) for _ in range(0, job_count + 1)]\\n#     cdef int[:,::1] makespan=zeros((job_count+1,machine_count+1), dtype=\\'int32\\')\\n#     #print(makespan)\\n#     #for i, job in enumerate(perm):\\n#     for i in range(job_count):\\n#         #makespan[i][0]=0\\n#         for machine in range(machine_count):\\n#             makespan[i + 1][machine + 1] = max(makespan[i][machine + 1], makespan[i + 1][machine]) + times[perm[i]][machine]#times[job][machine]\\n    \\n#     return makespan[job_count][machine_count]\\n\\ncpdef total_path(int [:,:] dist_matrix, int [:] permutation): # also here, maybe there are 1k ways to do this better but...\\n    cdef list list_of_dists = []\\n    for x,y in zip(permutation, permutation[1:]): # take the element of the permutation 2 by 2 -> 0,1 - 1,2 - 2,3 ect..\\n        list_of_dists.append(dist_matrix[x, y])\\n    list_of_dists.append(dist_matrix[permutation[-1], permutation[0]]) # take the distance between the last and the first\\n    total = sum(list_of_dists) # total\\n    return total\\n\\ncpdef GA(int [:,:] df, \\n         int population_size = 5000, \\n         double crossover_rate = 1.,\\n         double mutation_p = 0.1,\\n         double mutation_gen_rate = 0.2,\\n         int n_iteration = 100\\n        ):\\n    \\n    cdef int cities_count = len(df)\\n    cdef int n_mutations = round(cities_count*mutation_gen_rate)\\n    \\n    #####################\\n    # create population #\\n    #####################\\n    \\n    best_path = 1000000000\\n    best_list, best_obj = [],[]\\n    population = []\\n    \\n    for i in range(population_size):\\n        \\n        nxm_random_num = list(np.random.permutation(cities_count)) # generate a random permutation\\n        population.append(nxm_random_num) # insert in population\\n\\n    for n in range(n_iteration):\\n        \\n        curr_best_path = 1000000000           \\n        \\n        #############\\n        # crossover #\\n        #############\\n        \\n        parents = copy.deepcopy(population) #better use deecopy for dereferentiation/\\n        mut_list = copy.deepcopy(population)\\n        rand_seq = list(np.random.permutation(population_size)) # random sequence for the crossover\\n\\n        for m in range(int(population_size/2)):\\n            \\n            crossover_trhs = np.random.rand()\\n            \\n            if crossover_rate >= crossover_trhs:\\n            \\n                p1 = population[rand_seq[2*m]][:]\\n                p2 = population[rand_seq[2*m+1]][:]\\n                first_child = [\\'na\\' for i in range(cities_count)] # check if there is a better way\\n                second_child = [\\'na\\' for i in range(cities_count)]\\n                c = round(cities_count/2)\\n                swap_ind = list(np.random.choice(cities_count, c, replace=False))\\n\\n                for index in range(c):\\n                \\n                    first_child[swap_ind[index]] = p2[swap_ind[index]]\\n                    second_child[swap_ind[index]] = p1[swap_ind[index]]\\n                \\n                c1 = [p1[i] for i in range(cities_count) if p1[i] not in first_child]\\n                c2 = [p2[i] for i in range(cities_count) if p2[i] not in second_child]\\n\\n                for i in range(cities_count-c):\\n                \\n                    first_child[first_child.index(\\'na\\')] = c1[i]\\n                    second_child[second_child.index(\\'na\\')] = c2[i]\\n                \\n                mut_list[rand_seq[2*m]] = first_child[:]\\n                mut_list[rand_seq[2*m+1]] = second_child[:]\\n        \\n        ############\\n        # mutation #\\n        ############\\n        \\n        for m in range(len(mut_list)):\\n            \\n            mut_thrs = np.random.rand()\\n            \\n            if mutation_p >= mut_thrs:\\n                # chooses the mutation pos.\\n                swap_ind = list(np.random.choice(cities_count, n_mutations, replace=False)) \\n                tmp_swap = mut_list[m][swap_ind[0]] \\n                \\n                for i in range(n_mutations-1):\\n                    mut_list[m][swap_ind[i]]=mut_list[m][swap_ind[i+1]] #shifting (might be ameliorated)\\n\\n                mut_list[m][swap_ind[n_mutations-1]] = tmp_swap \\n\\n        #######################\\n        # fitness calculation #\\n        #######################\\n        \\n        gene_fin = copy.deepcopy(parents) + copy.deepcopy(mut_list) #parent and mutated\\n        gene_fitness, gene_fit = [],[]\\n        fitness = 0\\n        pth = [0 for elem in range(2*population_size)]\\n        \\n        for c in range(2*population_size):\\n            pth[c] = total_path(df, np.array(gene_fin[c], dtype=\"int32\"))\\n            gene_fitness.append(1/pth[c])\\n            gene_fit.append(pth[c])\\n            fitness+=gene_fitness[c]\\n        \\n        #########################\\n        # individuals selection #\\n        #########################\\n        \\n        ind_fit_list, cum_fit_list = [],[]\\n\\n        for i in range(population_size*2):\\n            ind_fit_list.append(gene_fitness[i]/fitness)\\n        for i in range(population_size*2):\\n            cum_sum = 0\\n            for j in range(0,i+1):\\n                cum_sum = cum_sum + ind_fit_list[j]\\n            cum_fit_list.append(cum_sum)\\n\\n        rand_sel = [np.random.rand() for i in range(population_size)]\\n\\n        for i in range(population_size):\\n            if rand_sel[i] <= cum_fit_list[0]:\\n                population[i] = copy.deepcopy(gene_fin[0])\\n                break\\n            else:\\n                for j in range(0,population_size*2-1):\\n                    if rand_sel[i] > cum_fit_list[j] and rand_sel[i] <= cum_fit_list[j+1]:\\n                        population[i] = copy.deepcopy(gene_fin[j+1])\\n        \\n        ##########################\\n        # updating best makespan #\\n        ##########################\\n        \\n        for i in range(population_size*2):\\n            if gene_fit[i] < curr_best_path:\\n                curr_best_path = gene_fit[i]\\n                now_perm = copy.deepcopy(gene_fin[i])\\n\\n        if curr_best_path <= best_path:\\n            best_path = curr_best_path\\n            best_perm = copy.deepcopy(now_perm)\\n    \\n    \\n    print(\"best permutation\",best_perm)\\n    print(\"best travel_time:%f\"%best_path)\\n    return best_perm,best_path'\u001b[0m\u001b[1;33m)\u001b[0m\u001b[1;33m\u001b[0m\u001b[0m\n\u001b[0m",
      "\u001b[1;32m~\\Anaconda3\\lib\\site-packages\\IPython\\core\\interactiveshell.py\u001b[0m in \u001b[0;36mrun_cell_magic\u001b[1;34m(self, magic_name, line, cell)\u001b[0m\n\u001b[0;32m   2129\u001b[0m             \u001b[0mmagic_arg_s\u001b[0m \u001b[1;33m=\u001b[0m \u001b[0mself\u001b[0m\u001b[1;33m.\u001b[0m\u001b[0mvar_expand\u001b[0m\u001b[1;33m(\u001b[0m\u001b[0mline\u001b[0m\u001b[1;33m,\u001b[0m \u001b[0mstack_depth\u001b[0m\u001b[1;33m)\u001b[0m\u001b[1;33m\u001b[0m\u001b[0m\n\u001b[0;32m   2130\u001b[0m             \u001b[1;32mwith\u001b[0m \u001b[0mself\u001b[0m\u001b[1;33m.\u001b[0m\u001b[0mbuiltin_trap\u001b[0m\u001b[1;33m:\u001b[0m\u001b[1;33m\u001b[0m\u001b[0m\n\u001b[1;32m-> 2131\u001b[1;33m                 \u001b[0mresult\u001b[0m \u001b[1;33m=\u001b[0m \u001b[0mfn\u001b[0m\u001b[1;33m(\u001b[0m\u001b[0mmagic_arg_s\u001b[0m\u001b[1;33m,\u001b[0m \u001b[0mcell\u001b[0m\u001b[1;33m)\u001b[0m\u001b[1;33m\u001b[0m\u001b[0m\n\u001b[0m\u001b[0;32m   2132\u001b[0m             \u001b[1;32mreturn\u001b[0m \u001b[0mresult\u001b[0m\u001b[1;33m\u001b[0m\u001b[0m\n\u001b[0;32m   2133\u001b[0m \u001b[1;33m\u001b[0m\u001b[0m\n",
      "\u001b[1;32m<decorator-gen-128>\u001b[0m in \u001b[0;36mcython\u001b[1;34m(self, line, cell)\u001b[0m\n",
      "\u001b[1;32m~\\Anaconda3\\lib\\site-packages\\IPython\\core\\magic.py\u001b[0m in \u001b[0;36m<lambda>\u001b[1;34m(f, *a, **k)\u001b[0m\n\u001b[0;32m    185\u001b[0m     \u001b[1;31m# but it's overkill for just that one bit of state.\u001b[0m\u001b[1;33m\u001b[0m\u001b[1;33m\u001b[0m\u001b[0m\n\u001b[0;32m    186\u001b[0m     \u001b[1;32mdef\u001b[0m \u001b[0mmagic_deco\u001b[0m\u001b[1;33m(\u001b[0m\u001b[0marg\u001b[0m\u001b[1;33m)\u001b[0m\u001b[1;33m:\u001b[0m\u001b[1;33m\u001b[0m\u001b[0m\n\u001b[1;32m--> 187\u001b[1;33m         \u001b[0mcall\u001b[0m \u001b[1;33m=\u001b[0m \u001b[1;32mlambda\u001b[0m \u001b[0mf\u001b[0m\u001b[1;33m,\u001b[0m \u001b[1;33m*\u001b[0m\u001b[0ma\u001b[0m\u001b[1;33m,\u001b[0m \u001b[1;33m**\u001b[0m\u001b[0mk\u001b[0m\u001b[1;33m:\u001b[0m \u001b[0mf\u001b[0m\u001b[1;33m(\u001b[0m\u001b[1;33m*\u001b[0m\u001b[0ma\u001b[0m\u001b[1;33m,\u001b[0m \u001b[1;33m**\u001b[0m\u001b[0mk\u001b[0m\u001b[1;33m)\u001b[0m\u001b[1;33m\u001b[0m\u001b[0m\n\u001b[0m\u001b[0;32m    188\u001b[0m \u001b[1;33m\u001b[0m\u001b[0m\n\u001b[0;32m    189\u001b[0m         \u001b[1;32mif\u001b[0m \u001b[0mcallable\u001b[0m\u001b[1;33m(\u001b[0m\u001b[0marg\u001b[0m\u001b[1;33m)\u001b[0m\u001b[1;33m:\u001b[0m\u001b[1;33m\u001b[0m\u001b[0m\n",
      "\u001b[1;32m~\\Anaconda3\\lib\\site-packages\\Cython\\Build\\IpythonMagic.py\u001b[0m in \u001b[0;36mcython\u001b[1;34m(self, line, cell)\u001b[0m\n\u001b[0;32m    327\u001b[0m \u001b[1;33m\u001b[0m\u001b[0m\n\u001b[0;32m    328\u001b[0m         self._build_extension(extension, lib_dir, pgo_step_name='use' if args.pgo else None,\n\u001b[1;32m--> 329\u001b[1;33m                               quiet=args.quiet)\n\u001b[0m\u001b[0;32m    330\u001b[0m \u001b[1;33m\u001b[0m\u001b[0m\n\u001b[0;32m    331\u001b[0m         \u001b[0mmodule\u001b[0m \u001b[1;33m=\u001b[0m \u001b[0mimp\u001b[0m\u001b[1;33m.\u001b[0m\u001b[0mload_dynamic\u001b[0m\u001b[1;33m(\u001b[0m\u001b[0mmodule_name\u001b[0m\u001b[1;33m,\u001b[0m \u001b[0mmodule_path\u001b[0m\u001b[1;33m)\u001b[0m\u001b[1;33m\u001b[0m\u001b[0m\n",
      "\u001b[1;32m~\\Anaconda3\\lib\\site-packages\\Cython\\Build\\IpythonMagic.py\u001b[0m in \u001b[0;36m_build_extension\u001b[1;34m(self, extension, lib_dir, temp_dir, pgo_step_name, quiet)\u001b[0m\n\u001b[0;32m    437\u001b[0m             \u001b[1;32mif\u001b[0m \u001b[1;32mnot\u001b[0m \u001b[0mquiet\u001b[0m\u001b[1;33m:\u001b[0m\u001b[1;33m\u001b[0m\u001b[0m\n\u001b[0;32m    438\u001b[0m                 \u001b[0mold_threshold\u001b[0m \u001b[1;33m=\u001b[0m \u001b[0mdistutils\u001b[0m\u001b[1;33m.\u001b[0m\u001b[0mlog\u001b[0m\u001b[1;33m.\u001b[0m\u001b[0mset_threshold\u001b[0m\u001b[1;33m(\u001b[0m\u001b[0mdistutils\u001b[0m\u001b[1;33m.\u001b[0m\u001b[0mlog\u001b[0m\u001b[1;33m.\u001b[0m\u001b[0mDEBUG\u001b[0m\u001b[1;33m)\u001b[0m\u001b[1;33m\u001b[0m\u001b[0m\n\u001b[1;32m--> 439\u001b[1;33m             \u001b[0mbuild_extension\u001b[0m\u001b[1;33m.\u001b[0m\u001b[0mrun\u001b[0m\u001b[1;33m(\u001b[0m\u001b[1;33m)\u001b[0m\u001b[1;33m\u001b[0m\u001b[0m\n\u001b[0m\u001b[0;32m    440\u001b[0m         \u001b[1;32mfinally\u001b[0m\u001b[1;33m:\u001b[0m\u001b[1;33m\u001b[0m\u001b[0m\n\u001b[0;32m    441\u001b[0m             \u001b[1;32mif\u001b[0m \u001b[1;32mnot\u001b[0m \u001b[0mquiet\u001b[0m \u001b[1;32mand\u001b[0m \u001b[0mold_threshold\u001b[0m \u001b[1;32mis\u001b[0m \u001b[1;32mnot\u001b[0m \u001b[1;32mNone\u001b[0m\u001b[1;33m:\u001b[0m\u001b[1;33m\u001b[0m\u001b[0m\n",
      "\u001b[1;32m~\\Anaconda3\\lib\\distutils\\command\\build_ext.py\u001b[0m in \u001b[0;36mrun\u001b[1;34m(self)\u001b[0m\n\u001b[0;32m    337\u001b[0m \u001b[1;33m\u001b[0m\u001b[0m\n\u001b[0;32m    338\u001b[0m         \u001b[1;31m# Now actually compile and link everything.\u001b[0m\u001b[1;33m\u001b[0m\u001b[1;33m\u001b[0m\u001b[0m\n\u001b[1;32m--> 339\u001b[1;33m         \u001b[0mself\u001b[0m\u001b[1;33m.\u001b[0m\u001b[0mbuild_extensions\u001b[0m\u001b[1;33m(\u001b[0m\u001b[1;33m)\u001b[0m\u001b[1;33m\u001b[0m\u001b[0m\n\u001b[0m\u001b[0;32m    340\u001b[0m \u001b[1;33m\u001b[0m\u001b[0m\n\u001b[0;32m    341\u001b[0m     \u001b[1;32mdef\u001b[0m \u001b[0mcheck_extensions_list\u001b[0m\u001b[1;33m(\u001b[0m\u001b[0mself\u001b[0m\u001b[1;33m,\u001b[0m \u001b[0mextensions\u001b[0m\u001b[1;33m)\u001b[0m\u001b[1;33m:\u001b[0m\u001b[1;33m\u001b[0m\u001b[0m\n",
      "\u001b[1;32m~\\Anaconda3\\lib\\distutils\\command\\build_ext.py\u001b[0m in \u001b[0;36mbuild_extensions\u001b[1;34m(self)\u001b[0m\n\u001b[0;32m    446\u001b[0m             \u001b[0mself\u001b[0m\u001b[1;33m.\u001b[0m\u001b[0m_build_extensions_parallel\u001b[0m\u001b[1;33m(\u001b[0m\u001b[1;33m)\u001b[0m\u001b[1;33m\u001b[0m\u001b[0m\n\u001b[0;32m    447\u001b[0m         \u001b[1;32melse\u001b[0m\u001b[1;33m:\u001b[0m\u001b[1;33m\u001b[0m\u001b[0m\n\u001b[1;32m--> 448\u001b[1;33m             \u001b[0mself\u001b[0m\u001b[1;33m.\u001b[0m\u001b[0m_build_extensions_serial\u001b[0m\u001b[1;33m(\u001b[0m\u001b[1;33m)\u001b[0m\u001b[1;33m\u001b[0m\u001b[0m\n\u001b[0m\u001b[0;32m    449\u001b[0m \u001b[1;33m\u001b[0m\u001b[0m\n\u001b[0;32m    450\u001b[0m     \u001b[1;32mdef\u001b[0m \u001b[0m_build_extensions_parallel\u001b[0m\u001b[1;33m(\u001b[0m\u001b[0mself\u001b[0m\u001b[1;33m)\u001b[0m\u001b[1;33m:\u001b[0m\u001b[1;33m\u001b[0m\u001b[0m\n",
      "\u001b[1;32m~\\Anaconda3\\lib\\distutils\\command\\build_ext.py\u001b[0m in \u001b[0;36m_build_extensions_serial\u001b[1;34m(self)\u001b[0m\n\u001b[0;32m    471\u001b[0m         \u001b[1;32mfor\u001b[0m \u001b[0mext\u001b[0m \u001b[1;32min\u001b[0m \u001b[0mself\u001b[0m\u001b[1;33m.\u001b[0m\u001b[0mextensions\u001b[0m\u001b[1;33m:\u001b[0m\u001b[1;33m\u001b[0m\u001b[0m\n\u001b[0;32m    472\u001b[0m             \u001b[1;32mwith\u001b[0m \u001b[0mself\u001b[0m\u001b[1;33m.\u001b[0m\u001b[0m_filter_build_errors\u001b[0m\u001b[1;33m(\u001b[0m\u001b[0mext\u001b[0m\u001b[1;33m)\u001b[0m\u001b[1;33m:\u001b[0m\u001b[1;33m\u001b[0m\u001b[0m\n\u001b[1;32m--> 473\u001b[1;33m                 \u001b[0mself\u001b[0m\u001b[1;33m.\u001b[0m\u001b[0mbuild_extension\u001b[0m\u001b[1;33m(\u001b[0m\u001b[0mext\u001b[0m\u001b[1;33m)\u001b[0m\u001b[1;33m\u001b[0m\u001b[0m\n\u001b[0m\u001b[0;32m    474\u001b[0m \u001b[1;33m\u001b[0m\u001b[0m\n\u001b[0;32m    475\u001b[0m     \u001b[1;33m@\u001b[0m\u001b[0mcontextlib\u001b[0m\u001b[1;33m.\u001b[0m\u001b[0mcontextmanager\u001b[0m\u001b[1;33m\u001b[0m\u001b[0m\n",
      "\u001b[1;32m~\\Anaconda3\\lib\\distutils\\command\\build_ext.py\u001b[0m in \u001b[0;36mbuild_extension\u001b[1;34m(self, ext)\u001b[0m\n\u001b[0;32m    531\u001b[0m                                          \u001b[0mdebug\u001b[0m\u001b[1;33m=\u001b[0m\u001b[0mself\u001b[0m\u001b[1;33m.\u001b[0m\u001b[0mdebug\u001b[0m\u001b[1;33m,\u001b[0m\u001b[1;33m\u001b[0m\u001b[0m\n\u001b[0;32m    532\u001b[0m                                          \u001b[0mextra_postargs\u001b[0m\u001b[1;33m=\u001b[0m\u001b[0mextra_args\u001b[0m\u001b[1;33m,\u001b[0m\u001b[1;33m\u001b[0m\u001b[0m\n\u001b[1;32m--> 533\u001b[1;33m                                          depends=ext.depends)\n\u001b[0m\u001b[0;32m    534\u001b[0m \u001b[1;33m\u001b[0m\u001b[0m\n\u001b[0;32m    535\u001b[0m         \u001b[1;31m# XXX outdated variable, kept here in case third-part code\u001b[0m\u001b[1;33m\u001b[0m\u001b[1;33m\u001b[0m\u001b[0m\n",
      "\u001b[1;32m~\\Anaconda3\\lib\\distutils\\_msvccompiler.py\u001b[0m in \u001b[0;36mcompile\u001b[1;34m(self, sources, output_dir, macros, include_dirs, debug, extra_preargs, extra_postargs, depends)\u001b[0m\n\u001b[0;32m    343\u001b[0m \u001b[1;33m\u001b[0m\u001b[0m\n\u001b[0;32m    344\u001b[0m         \u001b[1;32mif\u001b[0m \u001b[1;32mnot\u001b[0m \u001b[0mself\u001b[0m\u001b[1;33m.\u001b[0m\u001b[0minitialized\u001b[0m\u001b[1;33m:\u001b[0m\u001b[1;33m\u001b[0m\u001b[0m\n\u001b[1;32m--> 345\u001b[1;33m             \u001b[0mself\u001b[0m\u001b[1;33m.\u001b[0m\u001b[0minitialize\u001b[0m\u001b[1;33m(\u001b[0m\u001b[1;33m)\u001b[0m\u001b[1;33m\u001b[0m\u001b[0m\n\u001b[0m\u001b[0;32m    346\u001b[0m         compile_info = self._setup_compile(output_dir, macros, include_dirs,\n\u001b[0;32m    347\u001b[0m                                            sources, depends, extra_postargs)\n",
      "\u001b[1;32m~\\Anaconda3\\lib\\distutils\\_msvccompiler.py\u001b[0m in \u001b[0;36minitialize\u001b[1;34m(self, plat_name)\u001b[0m\n\u001b[0;32m    236\u001b[0m         \u001b[0mplat_spec\u001b[0m \u001b[1;33m=\u001b[0m \u001b[0mPLAT_TO_VCVARS\u001b[0m\u001b[1;33m[\u001b[0m\u001b[0mplat_name\u001b[0m\u001b[1;33m]\u001b[0m\u001b[1;33m\u001b[0m\u001b[0m\n\u001b[0;32m    237\u001b[0m \u001b[1;33m\u001b[0m\u001b[0m\n\u001b[1;32m--> 238\u001b[1;33m         \u001b[0mvc_env\u001b[0m \u001b[1;33m=\u001b[0m \u001b[0m_get_vc_env\u001b[0m\u001b[1;33m(\u001b[0m\u001b[0mplat_spec\u001b[0m\u001b[1;33m)\u001b[0m\u001b[1;33m\u001b[0m\u001b[0m\n\u001b[0m\u001b[0;32m    239\u001b[0m         \u001b[1;32mif\u001b[0m \u001b[1;32mnot\u001b[0m \u001b[0mvc_env\u001b[0m\u001b[1;33m:\u001b[0m\u001b[1;33m\u001b[0m\u001b[0m\n\u001b[0;32m    240\u001b[0m             raise DistutilsPlatformError(\"Unable to find a compatible \"\n",
      "\u001b[1;32m~\\Anaconda3\\lib\\distutils\\_msvccompiler.py\u001b[0m in \u001b[0;36m_get_vc_env\u001b[1;34m(plat_spec)\u001b[0m\n\u001b[0;32m    132\u001b[0m     \u001b[0mvcvarsall\u001b[0m\u001b[1;33m,\u001b[0m \u001b[0mvcruntime\u001b[0m \u001b[1;33m=\u001b[0m \u001b[0m_find_vcvarsall\u001b[0m\u001b[1;33m(\u001b[0m\u001b[0mplat_spec\u001b[0m\u001b[1;33m)\u001b[0m\u001b[1;33m\u001b[0m\u001b[0m\n\u001b[0;32m    133\u001b[0m     \u001b[1;32mif\u001b[0m \u001b[1;32mnot\u001b[0m \u001b[0mvcvarsall\u001b[0m\u001b[1;33m:\u001b[0m\u001b[1;33m\u001b[0m\u001b[0m\n\u001b[1;32m--> 134\u001b[1;33m         \u001b[1;32mraise\u001b[0m \u001b[0mDistutilsPlatformError\u001b[0m\u001b[1;33m(\u001b[0m\u001b[1;34m\"Unable to find vcvarsall.bat\"\u001b[0m\u001b[1;33m)\u001b[0m\u001b[1;33m\u001b[0m\u001b[0m\n\u001b[0m\u001b[0;32m    135\u001b[0m \u001b[1;33m\u001b[0m\u001b[0m\n\u001b[0;32m    136\u001b[0m     \u001b[1;32mtry\u001b[0m\u001b[1;33m:\u001b[0m\u001b[1;33m\u001b[0m\u001b[0m\n",
      "\u001b[1;31mDistutilsPlatformError\u001b[0m: Unable to find vcvarsall.bat"
     ]
    }
   ],
   "source": [
    "# %%cython\n",
    "\n",
    "# import pandas as pd\n",
    "# import numpy as np\n",
    "# import time\n",
    "# import copy\n",
    "# from numpy import zeros\n",
    "\n",
    "# # cpdef calc_makespan( int [:] perm,int [:,:] times): #,m_seq):\n",
    "# #     cdef int job_count = len(perm)\n",
    "# #     cdef int machine_count =len(times[0])\n",
    "# #     #makespan = [[0] * (machine_count + 1) for _ in range(0, job_count + 1)]\n",
    "# #     cdef int[:,::1] makespan=zeros((job_count+1,machine_count+1), dtype='int32')\n",
    "# #     #print(makespan)\n",
    "# #     #for i, job in enumerate(perm):\n",
    "# #     for i in range(job_count):\n",
    "# #         #makespan[i][0]=0\n",
    "# #         for machine in range(machine_count):\n",
    "# #             makespan[i + 1][machine + 1] = max(makespan[i][machine + 1], makespan[i + 1][machine]) + times[perm[i]][machine]#times[job][machine]\n",
    "    \n",
    "# #     return makespan[job_count][machine_count]\n",
    "\n",
    "# cpdef total_path(int [:,:] dist_matrix, int [:] permutation): # also here, maybe there are 1k ways to do this better but...\n",
    "#     cdef list list_of_dists = []\n",
    "#     for x,y in zip(permutation, permutation[1:]): # take the element of the permutation 2 by 2 -> 0,1 - 1,2 - 2,3 ect..\n",
    "#         list_of_dists.append(dist_matrix[x, y])\n",
    "#     list_of_dists.append(dist_matrix[permutation[-1], permutation[0]]) # take the distance between the last and the first\n",
    "#     total = sum(list_of_dists) # total\n",
    "#     return total\n",
    "\n",
    "# cpdef GA(int [:,:] df, \n",
    "#          int population_size = 5000, \n",
    "#          double crossover_rate = 1.,\n",
    "#          double mutation_p = 0.1,\n",
    "#          double mutation_gen_rate = 0.2,\n",
    "#          int n_iteration = 100\n",
    "#         ):\n",
    "    \n",
    "#     cdef int cities_count = len(df)\n",
    "#     cdef int n_mutations = round(cities_count*mutation_gen_rate)\n",
    "    \n",
    "#     #####################\n",
    "#     # create population #\n",
    "#     #####################\n",
    "    \n",
    "#     best_path = 1000000000\n",
    "#     best_list, best_obj = [],[]\n",
    "#     population = []\n",
    "    \n",
    "#     for i in range(population_size):\n",
    "        \n",
    "#         nxm_random_num = list(np.random.permutation(cities_count)) # generate a random permutation\n",
    "#         population.append(nxm_random_num) # insert in population\n",
    "\n",
    "#     for n in range(n_iteration):\n",
    "        \n",
    "#         curr_best_path = 1000000000           \n",
    "        \n",
    "#         #############\n",
    "#         # crossover #\n",
    "#         #############\n",
    "        \n",
    "#         parents = copy.deepcopy(population) #better use deecopy for dereferentiation/\n",
    "#         mut_list = copy.deepcopy(population)\n",
    "#         rand_seq = list(np.random.permutation(population_size)) # random sequence for the crossover\n",
    "\n",
    "#         for m in range(int(population_size/2)):\n",
    "            \n",
    "#             crossover_trhs = np.random.rand()\n",
    "            \n",
    "#             if crossover_rate >= crossover_trhs:\n",
    "            \n",
    "#                 p1 = population[rand_seq[2*m]][:]\n",
    "#                 p2 = population[rand_seq[2*m+1]][:]\n",
    "#                 first_child = ['na' for i in range(cities_count)] # check if there is a better way\n",
    "#                 second_child = ['na' for i in range(cities_count)]\n",
    "#                 c = round(cities_count/2)\n",
    "#                 swap_ind = list(np.random.choice(cities_count, c, replace=False))\n",
    "\n",
    "#                 for index in range(c):\n",
    "                \n",
    "#                     first_child[swap_ind[index]] = p2[swap_ind[index]]\n",
    "#                     second_child[swap_ind[index]] = p1[swap_ind[index]]\n",
    "                \n",
    "#                 c1 = [p1[i] for i in range(cities_count) if p1[i] not in first_child]\n",
    "#                 c2 = [p2[i] for i in range(cities_count) if p2[i] not in second_child]\n",
    "\n",
    "#                 for i in range(cities_count-c):\n",
    "                \n",
    "#                     first_child[first_child.index('na')] = c1[i]\n",
    "#                     second_child[second_child.index('na')] = c2[i]\n",
    "                \n",
    "#                 mut_list[rand_seq[2*m]] = first_child[:]\n",
    "#                 mut_list[rand_seq[2*m+1]] = second_child[:]\n",
    "        \n",
    "#         ############\n",
    "#         # mutation #\n",
    "#         ############\n",
    "        \n",
    "#         for m in range(len(mut_list)):\n",
    "            \n",
    "#             mut_thrs = np.random.rand()\n",
    "            \n",
    "#             if mutation_p >= mut_thrs:\n",
    "#                 # chooses the mutation pos.\n",
    "#                 swap_ind = list(np.random.choice(cities_count, n_mutations, replace=False)) \n",
    "#                 tmp_swap = mut_list[m][swap_ind[0]] \n",
    "                \n",
    "#                 for i in range(n_mutations-1):\n",
    "#                     mut_list[m][swap_ind[i]]=mut_list[m][swap_ind[i+1]] #shifting (might be ameliorated)\n",
    "\n",
    "#                 mut_list[m][swap_ind[n_mutations-1]] = tmp_swap \n",
    "\n",
    "#         #######################\n",
    "#         # fitness calculation #\n",
    "#         #######################\n",
    "        \n",
    "#         gene_fin = copy.deepcopy(parents) + copy.deepcopy(mut_list) #parent and mutated\n",
    "#         gene_fitness, gene_fit = [],[]\n",
    "#         fitness = 0\n",
    "#         pth = [0 for elem in range(2*population_size)]\n",
    "        \n",
    "#         for c in range(2*population_size):\n",
    "#             pth[c] = total_path(df, np.array(gene_fin[c], dtype=\"int32\"))\n",
    "#             gene_fitness.append(1/pth[c])\n",
    "#             gene_fit.append(pth[c])\n",
    "#             fitness+=gene_fitness[c]\n",
    "        \n",
    "#         #########################\n",
    "#         # individuals selection #\n",
    "#         #########################\n",
    "        \n",
    "#         ind_fit_list, cum_fit_list = [],[]\n",
    "\n",
    "#         for i in range(population_size*2):\n",
    "#             ind_fit_list.append(gene_fitness[i]/fitness)\n",
    "#         for i in range(population_size*2):\n",
    "#             cum_sum = 0\n",
    "#             for j in range(0,i+1):\n",
    "#                 cum_sum = cum_sum + ind_fit_list[j]\n",
    "#             cum_fit_list.append(cum_sum)\n",
    "\n",
    "#         rand_sel = [np.random.rand() for i in range(population_size)]\n",
    "\n",
    "#         for i in range(population_size):\n",
    "#             if rand_sel[i] <= cum_fit_list[0]:\n",
    "#                 population[i] = copy.deepcopy(gene_fin[0])\n",
    "#                 break\n",
    "#             else:\n",
    "#                 for j in range(0,population_size*2-1):\n",
    "#                     if rand_sel[i] > cum_fit_list[j] and rand_sel[i] <= cum_fit_list[j+1]:\n",
    "#                         population[i] = copy.deepcopy(gene_fin[j+1])\n",
    "        \n",
    "#         ##########################\n",
    "#         # updating best makespan #\n",
    "#         ##########################\n",
    "        \n",
    "#         for i in range(population_size*2):\n",
    "#             if gene_fit[i] < curr_best_path:\n",
    "#                 curr_best_path = gene_fit[i]\n",
    "#                 now_perm = copy.deepcopy(gene_fin[i])\n",
    "\n",
    "#         if curr_best_path <= best_path:\n",
    "#             best_path = curr_best_path\n",
    "#             best_perm = copy.deepcopy(now_perm)\n",
    "    \n",
    "    \n",
    "#     print(\"best permutation\",best_perm)\n",
    "#     print(\"best travel_time:%f\"%best_path)\n",
    "#     return best_perm,best_path"
   ]
  },
  {
   "cell_type": "code",
   "execution_count": 31,
   "metadata": {},
   "outputs": [],
   "source": [
    "def GA(df, \n",
    "        population_size = 5000, \n",
    "        crossover_rate = 1.,\n",
    "        mutation_p = 0.1,\n",
    "        mutation_gen_rate = 0.2,\n",
    "        n_iteration = 100\n",
    "        ):\n",
    "    \n",
    "    cities_count = len(df)\n",
    "    n_mutations = round(cities_count*mutation_gen_rate)\n",
    "    \n",
    "    #####################\n",
    "    # create population #\n",
    "    #####################\n",
    "    \n",
    "    best_path = 1000000000\n",
    "    best_list, best_obj = [],[]\n",
    "    population = []\n",
    "    \n",
    "    for i in range(population_size):\n",
    "        \n",
    "        nxm_random_num = list(np.random.permutation(cities_count)) # generate a random permutation\n",
    "        population.append(nxm_random_num) # insert in population\n",
    "\n",
    "    for n in range(n_iteration):\n",
    "        \n",
    "        curr_best_path = 1000000000           \n",
    "        \n",
    "        #############\n",
    "        # crossover #\n",
    "        #############\n",
    "        \n",
    "        parents = copy.deepcopy(population) #better use deecopy for dereferentiation/\n",
    "        mut_list = copy.deepcopy(population)\n",
    "        rand_seq = list(np.random.permutation(population_size)) # random sequence for the crossover\n",
    "\n",
    "        for m in range(int(population_size/2)):\n",
    "            \n",
    "            crossover_trhs = np.random.rand()\n",
    "            \n",
    "            if crossover_rate >= crossover_trhs:\n",
    "            \n",
    "                p1 = population[rand_seq[2*m]][:]\n",
    "                p2 = population[rand_seq[2*m+1]][:]\n",
    "                first_child = ['na' for i in range(cities_count)] # check if there is a better way\n",
    "                second_child = ['na' for i in range(cities_count)]\n",
    "                c = round(cities_count/2)\n",
    "                swap_ind = list(np.random.choice(cities_count, c, replace=False))\n",
    "\n",
    "                for index in range(c):\n",
    "                \n",
    "                    first_child[swap_ind[index]] = p2[swap_ind[index]]\n",
    "                    second_child[swap_ind[index]] = p1[swap_ind[index]]\n",
    "                \n",
    "                c1 = [p1[i] for i in range(cities_count) if p1[i] not in first_child]\n",
    "                c2 = [p2[i] for i in range(cities_count) if p2[i] not in second_child]\n",
    "\n",
    "                for i in range(cities_count-c):\n",
    "                \n",
    "                    first_child[first_child.index('na')] = c1[i]\n",
    "                    second_child[second_child.index('na')] = c2[i]\n",
    "                \n",
    "                mut_list[rand_seq[2*m]] = first_child[:]\n",
    "                mut_list[rand_seq[2*m+1]] = second_child[:]\n",
    "        \n",
    "        ############\n",
    "        # mutation #\n",
    "        ############\n",
    "        \n",
    "        for m in range(len(mut_list)):\n",
    "            \n",
    "            mut_thrs = np.random.rand()\n",
    "            \n",
    "            if mutation_p >= mut_thrs:\n",
    "                # chooses the mutation pos.\n",
    "                swap_ind = list(np.random.choice(cities_count, n_mutations, replace=False)) \n",
    "                tmp_swap = mut_list[m][swap_ind[0]] \n",
    "                \n",
    "                for i in range(n_mutations-1):\n",
    "                    mut_list[m][swap_ind[i]]=mut_list[m][swap_ind[i+1]] #shifting (might be ameliorated)\n",
    "\n",
    "                mut_list[m][swap_ind[n_mutations-1]] = tmp_swap \n",
    "\n",
    "        #######################\n",
    "        # fitness calculation #\n",
    "        #######################\n",
    "        \n",
    "        gene_fin = copy.deepcopy(parents) + copy.deepcopy(mut_list) #parent and mutated\n",
    "        gene_fitness, gene_fit = [],[]\n",
    "        fitness = 0\n",
    "        pth = [0 for elem in range(2*population_size)]\n",
    "        \n",
    "        for c in range(2*population_size):\n",
    "            pth[c] = total_path(df, np.array(gene_fin[c], dtype=\"int32\"))\n",
    "            gene_fitness.append(1/pth[c])\n",
    "            gene_fit.append(pth[c])\n",
    "            fitness+=gene_fitness[c]\n",
    "        \n",
    "        #########################\n",
    "        # individuals selection #\n",
    "        #########################\n",
    "        \n",
    "        ind_fit_list, cum_fit_list = [],[]\n",
    "\n",
    "        for i in range(population_size*2):\n",
    "            ind_fit_list.append(gene_fitness[i]/fitness)\n",
    "        for i in range(population_size*2):\n",
    "            cum_sum = 0\n",
    "            for j in range(0,i+1):\n",
    "                cum_sum = cum_sum + ind_fit_list[j]\n",
    "            cum_fit_list.append(cum_sum)\n",
    "\n",
    "        rand_sel = [np.random.rand() for i in range(population_size)]\n",
    "\n",
    "        for i in range(population_size):\n",
    "            if rand_sel[i] <= cum_fit_list[0]:\n",
    "                population[i] = copy.deepcopy(gene_fin[0])\n",
    "                break\n",
    "            else:\n",
    "                for j in range(0,population_size*2-1):\n",
    "                    if rand_sel[i] > cum_fit_list[j] and rand_sel[i] <= cum_fit_list[j+1]:\n",
    "                        population[i] = copy.deepcopy(gene_fin[j+1])\n",
    "        \n",
    "        ##########################\n",
    "        # updating best makespan #\n",
    "        ##########################\n",
    "        \n",
    "        for i in range(population_size*2):\n",
    "            if gene_fit[i] < curr_best_path:\n",
    "                curr_best_path = gene_fit[i]\n",
    "                now_perm = copy.deepcopy(gene_fin[i])\n",
    "\n",
    "        if curr_best_path <= best_path:\n",
    "            best_path = curr_best_path\n",
    "            best_perm = copy.deepcopy(now_perm)\n",
    "    \n",
    "    \n",
    "    print(\"best permutation\",best_perm)\n",
    "    print(\"best travel_time:%f\"%best_path)\n",
    "    return best_perm,best_path"
   ]
  },
  {
   "cell_type": "markdown",
   "metadata": {},
   "source": [
    "Testing with the 20x5 matrix"
   ]
  },
  {
   "cell_type": "code",
   "execution_count": 104,
   "metadata": {},
   "outputs": [
    {
     "name": "stdout",
     "output_type": "stream",
     "text": [
      "best permutation [24, 20, 27, 11, 25, 4, 8, 5, 1, 9, 2, 28, 10, 21, 13, 14, 18, 26, 15, 23, 0, 3, 17, 12, 22, 7, 6, 19, 16]\n",
      "best travel_time:3893.000000\n"
     ]
    }
   ],
   "source": [
    "first = GA(d_matrix,\n",
    "           population_size = 100,\n",
    "           crossover_rate = 0.7,\n",
    "           mutation_p = 0.2,\n",
    "           n_iteration = 1000)"
   ]
  },
  {
   "cell_type": "code",
   "execution_count": 34,
   "metadata": {},
   "outputs": [
    {
     "name": "stdout",
     "output_type": "stream",
     "text": [
      "best permutation [9, 16, 14, 3, 8, 23, 0, 6, 15, 18, 24, 26, 22, 10, 1, 17, 13, 21, 7, 12, 20, 25, 11, 5, 27, 4, 28, 2, 19]\n",
      "best travel_time:17721.458500\n"
     ]
    },
    {
     "data": {
      "text/plain": [
       "([9,\n",
       "  16,\n",
       "  14,\n",
       "  3,\n",
       "  8,\n",
       "  23,\n",
       "  0,\n",
       "  6,\n",
       "  15,\n",
       "  18,\n",
       "  24,\n",
       "  26,\n",
       "  22,\n",
       "  10,\n",
       "  1,\n",
       "  17,\n",
       "  13,\n",
       "  21,\n",
       "  7,\n",
       "  12,\n",
       "  20,\n",
       "  25,\n",
       "  11,\n",
       "  5,\n",
       "  27,\n",
       "  4,\n",
       "  28,\n",
       "  2,\n",
       "  19],\n",
       " 17721.45850005624)"
      ]
     },
     "execution_count": 34,
     "metadata": {},
     "output_type": "execute_result"
    }
   ],
   "source": [
    "second = GA(d_matrix, n_iteration = 20)"
   ]
  },
  {
   "cell_type": "markdown",
   "metadata": {},
   "source": [
    "############################################################"
   ]
  },
  {
   "cell_type": "code",
   "execution_count": 12,
   "metadata": {},
   "outputs": [
    {
     "name": "stdout",
     "output_type": "stream",
     "text": [
      "best permutation [14, 8, 18, 5, 13, 2, 1, 0, 6, 7, 15, 3, 4, 17, 11, 16, 10, 12, 9, 19]\n",
      "best makespan:1306.000000\n"
     ]
    },
    {
     "data": {
      "text/plain": [
       "([14, 8, 18, 5, 13, 2, 1, 0, 6, 7, 15, 3, 4, 17, 11, 16, 10, 12, 9, 19], 1306)"
      ]
     },
     "execution_count": 12,
     "metadata": {},
     "output_type": "execute_result"
    }
   ],
   "source": [
    "GA(m, n_iteration=1)"
   ]
  },
  {
   "cell_type": "code",
   "execution_count": 41,
   "metadata": {},
   "outputs": [
    {
     "name": "stdout",
     "output_type": "stream",
     "text": [
      "best permutation [0, 7, 16, 1, 5, 15, 8, 12, 13, 3, 2, 14, 18, 11, 4, 17, 10, 9, 6, 19]\n",
      "best makespan:1322.000000\n"
     ]
    },
    {
     "data": {
      "text/plain": [
       "([0, 7, 16, 1, 5, 15, 8, 12, 13, 3, 2, 14, 18, 11, 4, 17, 10, 9, 6, 19], 1322)"
      ]
     },
     "execution_count": 41,
     "metadata": {},
     "output_type": "execute_result"
    }
   ],
   "source": [
    "GA(m, n_iteration=10)"
   ]
  },
  {
   "cell_type": "markdown",
   "metadata": {},
   "source": [
    "As we anticipated, the performances seems not to be so great.\n",
    "\n",
    "After reading some literature, I tried some parameters tuning (as indicated e.g. in \"Khan, Bazul & Govindan, Kannan & Jeyapaul, R. (2010 IJAOM).\n",
    "\n",
    "However, the results did not change so much, so that after comparing with the python library \"pyeasyga\", whose algorithm results were similar to those obtained previously, i tried out other algorithm."
   ]
  },
  {
   "cell_type": "code",
   "execution_count": 27,
   "metadata": {},
   "outputs": [],
   "source": [
    "import random\n",
    "from pyeasyga import pyeasyga\n",
    "\n",
    "# setup seed data\n",
    "data=list(range(no_of_jobs))\n",
    "\n",
    "# initialise the GA\n",
    "ga = pyeasyga.GeneticAlgorithm(seq.tolist(),\n",
    "                            population_size=200,\n",
    "                            generations=100,\n",
    "                            crossover_probability=0.8,\n",
    "                            mutation_probability=0.1,\n",
    "                            elitism=True,\n",
    "                            maximise_fitness=True)\n",
    "\n",
    "# define and set function to create a candidate solution representation\n",
    "def create_individual(data):\n",
    "    individual = data[:]\n",
    "    random.shuffle(individual)\n",
    "    return individual\n",
    "\n",
    "ga.create_individual = create_individual\n",
    "\n",
    "# define and set the GA's crossover operation\n",
    "def crossover(parent_1, parent_2):\n",
    "    crossover_index = random.randrange(1, len(parent_1))\n",
    "    child_1a = parent_1[:crossover_index]\n",
    "    child_1b = [i for i in parent_2 if i not in child_1a]\n",
    "    child_1 = child_1a + child_1b\n",
    "\n",
    "    child_2a = parent_2[crossover_index:]\n",
    "    child_2b = [i for i in parent_1 if i not in child_2a]\n",
    "    child_2 = child_2a + child_2b\n",
    "    \n",
    "    return child_1, child_2\n",
    "\n",
    "ga.crossover_function = crossover\n",
    "\n",
    "# define and set the GA's mutation operation\n",
    "def mutate(individual):\n",
    "    mutate_index1 = random.randrange(len(individual))\n",
    "    mutate_index2 = random.randrange(len(individual))\n",
    "    individual[mutate_index1], individual[mutate_index2] = individual[mutate_index2], individual[mutate_index1]\n",
    "\n",
    "ga.mutate_function = mutate\n",
    "\n",
    "# define and set the GA's selection operation\n",
    "def selection(population):\n",
    "    #print(population)\n",
    "    \n",
    "    return random.choice(population)\n",
    "\n",
    "ga.selection_function = selection\n",
    "\n",
    "# define a fitness function\n",
    "def fitness (individual, data):\n",
    "    fitness=0\n",
    "    v=calc_makespan(np.array(individual, dtype=\"int32\"), m)\n",
    "    fitness+= 1/v\n",
    "    return fitness\n",
    "ga.fitness_function = fitness       # set the GA's fitness function"
   ]
  },
  {
   "cell_type": "code",
   "execution_count": 25,
   "metadata": {},
   "outputs": [],
   "source": [
    "ga.run()                            # run the GA"
   ]
  },
  {
   "cell_type": "code",
   "execution_count": 30,
   "metadata": {},
   "outputs": [
    {
     "data": {
      "text/plain": [
       "(1297, [16, 14, 2, 18, 12, 10, 13, 15, 0, 17, 8, 5, 6, 1, 3, 4, 7, 11, 9, 19])"
      ]
     },
     "execution_count": 30,
     "metadata": {},
     "output_type": "execute_result"
    }
   ],
   "source": [
    "fit, sel_perm = ga.best_individual()\n",
    "calc_makespan(np.array(sel_perm, dtype=\"int32\"), m), sel_perm"
   ]
  },
  {
   "cell_type": "markdown",
   "metadata": {},
   "source": [
    "Which is not an horrible result, but it can be explained by the few iterations done (not having some great computational power), and probably by the not-optimal choice of the algorithm parameters  "
   ]
  }
 ],
 "metadata": {
  "kernelspec": {
   "display_name": "Python 3",
   "language": "python",
   "name": "python3"
  },
  "language_info": {
   "codemirror_mode": {
    "name": "ipython",
    "version": 3
   },
   "file_extension": ".py",
   "mimetype": "text/x-python",
   "name": "python",
   "nbconvert_exporter": "python",
   "pygments_lexer": "ipython3",
   "version": "3.6.4"
  }
 },
 "nbformat": 4,
 "nbformat_minor": 2
}
