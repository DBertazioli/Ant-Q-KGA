{
 "cells": [
  {
   "cell_type": "markdown",
   "metadata": {},
   "source": [
    "## Genetic Algorithm implementation\n",
    "### for Decision Model course project"
   ]
  },
  {
   "cell_type": "markdown",
   "metadata": {},
   "source": [
    "### Implementation"
   ]
  },
  {
   "cell_type": "code",
   "execution_count": 1,
   "metadata": {},
   "outputs": [],
   "source": [
    "#importing required modules\n",
    "import pandas as pd\n",
    "import numpy as np\n",
    "import time\n",
    "import copy\n",
    "import math"
   ]
  },
  {
   "cell_type": "markdown",
   "metadata": {},
   "source": [
    "### Data"
   ]
  },
  {
   "cell_type": "markdown",
   "metadata": {},
   "source": [
    "Per risolvere il problema del Travel Salesman Problem, approcciamo il problema utilizzando i dataset disponibili a http://www.math.uwaterloo.ca/tsp/world/countries.html#%20DJ così da avere una base di confronto.\n",
    "\n",
    "Prima di tutto importiamo i dati in forma di matrice delle distanze:"
   ]
  },
  {
   "cell_type": "code",
   "execution_count": 2,
   "metadata": {},
   "outputs": [
    {
     "data": {
      "text/html": [
       "<div>\n",
       "<style scoped>\n",
       "    .dataframe tbody tr th:only-of-type {\n",
       "        vertical-align: middle;\n",
       "    }\n",
       "\n",
       "    .dataframe tbody tr th {\n",
       "        vertical-align: top;\n",
       "    }\n",
       "\n",
       "    .dataframe thead th {\n",
       "        text-align: right;\n",
       "    }\n",
       "</style>\n",
       "<table border=\"1\" class=\"dataframe\">\n",
       "  <thead>\n",
       "    <tr style=\"text-align: right;\">\n",
       "      <th></th>\n",
       "      <th>1</th>\n",
       "      <th>2</th>\n",
       "      <th>3</th>\n",
       "      <th>4</th>\n",
       "      <th>5</th>\n",
       "      <th>6</th>\n",
       "      <th>7</th>\n",
       "      <th>8</th>\n",
       "      <th>9</th>\n",
       "      <th>10</th>\n",
       "      <th>...</th>\n",
       "      <th>20</th>\n",
       "      <th>21</th>\n",
       "      <th>22</th>\n",
       "      <th>23</th>\n",
       "      <th>24</th>\n",
       "      <th>25</th>\n",
       "      <th>26</th>\n",
       "      <th>27</th>\n",
       "      <th>28</th>\n",
       "      <th>29</th>\n",
       "    </tr>\n",
       "  </thead>\n",
       "  <tbody>\n",
       "    <tr>\n",
       "      <th>0</th>\n",
       "      <td>0</td>\n",
       "      <td>107</td>\n",
       "      <td>241</td>\n",
       "      <td>190</td>\n",
       "      <td>124</td>\n",
       "      <td>80</td>\n",
       "      <td>316</td>\n",
       "      <td>76</td>\n",
       "      <td>152</td>\n",
       "      <td>157</td>\n",
       "      <td>...</td>\n",
       "      <td>150</td>\n",
       "      <td>65</td>\n",
       "      <td>341</td>\n",
       "      <td>184</td>\n",
       "      <td>67</td>\n",
       "      <td>221</td>\n",
       "      <td>169</td>\n",
       "      <td>108</td>\n",
       "      <td>45</td>\n",
       "      <td>167</td>\n",
       "    </tr>\n",
       "    <tr>\n",
       "      <th>1</th>\n",
       "      <td>107</td>\n",
       "      <td>0</td>\n",
       "      <td>148</td>\n",
       "      <td>137</td>\n",
       "      <td>88</td>\n",
       "      <td>127</td>\n",
       "      <td>336</td>\n",
       "      <td>183</td>\n",
       "      <td>134</td>\n",
       "      <td>95</td>\n",
       "      <td>...</td>\n",
       "      <td>67</td>\n",
       "      <td>42</td>\n",
       "      <td>278</td>\n",
       "      <td>271</td>\n",
       "      <td>146</td>\n",
       "      <td>251</td>\n",
       "      <td>105</td>\n",
       "      <td>191</td>\n",
       "      <td>139</td>\n",
       "      <td>79</td>\n",
       "    </tr>\n",
       "    <tr>\n",
       "      <th>2</th>\n",
       "      <td>241</td>\n",
       "      <td>148</td>\n",
       "      <td>0</td>\n",
       "      <td>374</td>\n",
       "      <td>171</td>\n",
       "      <td>259</td>\n",
       "      <td>509</td>\n",
       "      <td>317</td>\n",
       "      <td>217</td>\n",
       "      <td>232</td>\n",
       "      <td>...</td>\n",
       "      <td>204</td>\n",
       "      <td>182</td>\n",
       "      <td>435</td>\n",
       "      <td>417</td>\n",
       "      <td>292</td>\n",
       "      <td>424</td>\n",
       "      <td>116</td>\n",
       "      <td>337</td>\n",
       "      <td>273</td>\n",
       "      <td>77</td>\n",
       "    </tr>\n",
       "    <tr>\n",
       "      <th>3</th>\n",
       "      <td>190</td>\n",
       "      <td>137</td>\n",
       "      <td>374</td>\n",
       "      <td>0</td>\n",
       "      <td>202</td>\n",
       "      <td>234</td>\n",
       "      <td>222</td>\n",
       "      <td>192</td>\n",
       "      <td>248</td>\n",
       "      <td>42</td>\n",
       "      <td>...</td>\n",
       "      <td>70</td>\n",
       "      <td>137</td>\n",
       "      <td>151</td>\n",
       "      <td>239</td>\n",
       "      <td>135</td>\n",
       "      <td>137</td>\n",
       "      <td>242</td>\n",
       "      <td>165</td>\n",
       "      <td>228</td>\n",
       "      <td>205</td>\n",
       "    </tr>\n",
       "    <tr>\n",
       "      <th>4</th>\n",
       "      <td>124</td>\n",
       "      <td>88</td>\n",
       "      <td>171</td>\n",
       "      <td>202</td>\n",
       "      <td>0</td>\n",
       "      <td>61</td>\n",
       "      <td>392</td>\n",
       "      <td>202</td>\n",
       "      <td>46</td>\n",
       "      <td>160</td>\n",
       "      <td>...</td>\n",
       "      <td>155</td>\n",
       "      <td>65</td>\n",
       "      <td>366</td>\n",
       "      <td>300</td>\n",
       "      <td>175</td>\n",
       "      <td>307</td>\n",
       "      <td>57</td>\n",
       "      <td>220</td>\n",
       "      <td>121</td>\n",
       "      <td>97</td>\n",
       "    </tr>\n",
       "  </tbody>\n",
       "</table>\n",
       "<p>5 rows × 29 columns</p>\n",
       "</div>"
      ],
      "text/plain": [
       "    1    2    3    4    5    6    7    8    9    10 ...    20   21   22   23  \\\n",
       "0    0  107  241  190  124   80  316   76  152  157 ...   150   65  341  184   \n",
       "1  107    0  148  137   88  127  336  183  134   95 ...    67   42  278  271   \n",
       "2  241  148    0  374  171  259  509  317  217  232 ...   204  182  435  417   \n",
       "3  190  137  374    0  202  234  222  192  248   42 ...    70  137  151  239   \n",
       "4  124   88  171  202    0   61  392  202   46  160 ...   155   65  366  300   \n",
       "\n",
       "    24   25   26   27   28   29  \n",
       "0   67  221  169  108   45  167  \n",
       "1  146  251  105  191  139   79  \n",
       "2  292  424  116  337  273   77  \n",
       "3  135  137  242  165  228  205  \n",
       "4  175  307   57  220  121   97  \n",
       "\n",
       "[5 rows x 29 columns]"
      ]
     },
     "execution_count": 2,
     "metadata": {},
     "output_type": "execute_result"
    }
   ],
   "source": [
    "df = pd.read_csv(\"bays29.tsp\", header=None, sep = \" \")\n",
    "df.drop(0, axis = 1, inplace = True)\n",
    "df.head()"
   ]
  },
  {
   "cell_type": "code",
   "execution_count": 40,
   "metadata": {
    "scrolled": true
   },
   "outputs": [
    {
     "data": {
      "text/html": [
       "<div>\n",
       "<style scoped>\n",
       "    .dataframe tbody tr th:only-of-type {\n",
       "        vertical-align: middle;\n",
       "    }\n",
       "\n",
       "    .dataframe tbody tr th {\n",
       "        vertical-align: top;\n",
       "    }\n",
       "\n",
       "    .dataframe thead th {\n",
       "        text-align: right;\n",
       "    }\n",
       "</style>\n",
       "<table border=\"1\" class=\"dataframe\">\n",
       "  <thead>\n",
       "    <tr style=\"text-align: right;\">\n",
       "      <th></th>\n",
       "      <th>x</th>\n",
       "      <th>y</th>\n",
       "    </tr>\n",
       "  </thead>\n",
       "  <tbody>\n",
       "    <tr>\n",
       "      <th>1</th>\n",
       "      <td>565.0</td>\n",
       "      <td>575.0</td>\n",
       "    </tr>\n",
       "    <tr>\n",
       "      <th>2</th>\n",
       "      <td>25.0</td>\n",
       "      <td>185.0</td>\n",
       "    </tr>\n",
       "    <tr>\n",
       "      <th>3</th>\n",
       "      <td>345.0</td>\n",
       "      <td>750.0</td>\n",
       "    </tr>\n",
       "    <tr>\n",
       "      <th>4</th>\n",
       "      <td>945.0</td>\n",
       "      <td>685.0</td>\n",
       "    </tr>\n",
       "    <tr>\n",
       "      <th>5</th>\n",
       "      <td>845.0</td>\n",
       "      <td>655.0</td>\n",
       "    </tr>\n",
       "  </tbody>\n",
       "</table>\n",
       "</div>"
      ],
      "text/plain": [
       "       x      y\n",
       "1  565.0  575.0\n",
       "2   25.0  185.0\n",
       "3  345.0  750.0\n",
       "4  945.0  685.0\n",
       "5  845.0  655.0"
      ]
     },
     "execution_count": 40,
     "metadata": {},
     "output_type": "execute_result"
    }
   ],
   "source": [
    "df = pd.read_csv(\"berlin52.tsp\", header=None, sep = \" \", names = ['x', 'y'], index_col = 0)\n",
    "df.head()"
   ]
  },
  {
   "cell_type": "code",
   "execution_count": 41,
   "metadata": {},
   "outputs": [
    {
     "data": {
      "text/plain": [
       "52"
      ]
     },
     "execution_count": 41,
     "metadata": {},
     "output_type": "execute_result"
    }
   ],
   "source": [
    "len(df)"
   ]
  },
  {
   "cell_type": "code",
   "execution_count": 4,
   "metadata": {},
   "outputs": [],
   "source": [
    "d_matrix = np.array(df)\n",
    "d_matrix = np.reshape(d_matrix, (len(df),len(df)))\n",
    "# d_matrix"
   ]
  },
  {
   "cell_type": "code",
   "execution_count": 43,
   "metadata": {},
   "outputs": [],
   "source": [
    "def dist_matrix(df):\n",
    "    list_of_distances = [] # just to make it simple, probably there are 1k better ways to do this\n",
    "    for point in df.itertuples():\n",
    "        a = point[1]\n",
    "        b = point[2]\n",
    "        for point_s in df.itertuples():\n",
    "            c = point_s[1]\n",
    "            d = point_s[2]\n",
    "            dist = math.sqrt(((c-a)**2) + ((d-b)**2))\n",
    "           # dist = max(abs(c-a), abs(d-b))\n",
    "            list_of_distances.append(dist)\n",
    "    dist_matrix = np.array(list_of_distances) # convertion to array\n",
    "    dist_matrix = np.reshape(dist_matrix, (len(df), len(df))) # reshaping\n",
    "    # dist_matrix.shape # check\n",
    "    return dist_matrix"
   ]
  },
  {
   "cell_type": "code",
   "execution_count": 44,
   "metadata": {},
   "outputs": [
    {
     "data": {
      "text/plain": [
       "array([[   0.        ,  666.10809934,  281.11385594, ...,  217.08293346,\n",
       "         789.38267019, 1220.46097848],\n",
       "       [ 666.10809934,    0.        ,  649.32657423, ...,  596.25917184,\n",
       "        1421.55724471, 1716.04924172],\n",
       "       [ 281.11385594,  649.32657423,    0.        , ...,  463.24939288,\n",
       "         995.3140208 , 1483.59361012],\n",
       "       ...,\n",
       "       [ 217.08293346,  596.25917184,  463.24939288, ...,    0.        ,\n",
       "         829.60834133, 1150.76061803],\n",
       "       [ 789.38267019, 1421.55724471,  995.3140208 , ...,  829.60834133,\n",
       "           0.        ,  624.81997407],\n",
       "       [1220.46097848, 1716.04924172, 1483.59361012, ..., 1150.76061803,\n",
       "         624.81997407,    0.        ]])"
      ]
     },
     "execution_count": 44,
     "metadata": {},
     "output_type": "execute_result"
    }
   ],
   "source": [
    "d_matrix = dist_matrix(df)\n",
    "d_matrix"
   ]
  },
  {
   "cell_type": "markdown",
   "metadata": {},
   "source": [
    "### Path length function"
   ]
  },
  {
   "cell_type": "markdown",
   "metadata": {},
   "source": [
    "Con lo scopo di poter calcolare la distanza totale percorsa sulla base del percorso scelto creiamo una funzione che, sulla base della permutazione sottoposta, restituisca la distanza totale percorsa seguendo quel tracciato:"
   ]
  },
  {
   "cell_type": "code",
   "execution_count": 45,
   "metadata": {},
   "outputs": [
    {
     "data": {
      "text/plain": [
       "52"
      ]
     },
     "execution_count": 45,
     "metadata": {},
     "output_type": "execute_result"
    }
   ],
   "source": [
    "permutation = list(range(0,len(df))) #define  a fake permutation\n",
    "len(permutation)"
   ]
  },
  {
   "cell_type": "code",
   "execution_count": 46,
   "metadata": {},
   "outputs": [],
   "source": [
    "def total_path(dist_matrix, permutation): # also here, maybe there are 1k ways to do this better but...\n",
    "    # list_of_dists = []\n",
    "    total = 0\n",
    "    for x,y in zip(permutation, permutation[1:]): # take the element of the permutation 2 by 2 -> 0,1 - 1,2 - 2,3 ect..\n",
    "        # list_of_dists.append(dist_matrix[x, y])\n",
    "        total += dist_matrix[x, y]\n",
    "    # list_of_dists.append(dist_matrix[permutation[-1], permutation[0]]) # take the distance between the last and the first\n",
    "    #[total += dist_matrix[x, y] for x,y in zip(permutation, permutation[1:])]\n",
    "    total += dist_matrix[permutation[-1], permutation[0]]\n",
    "    # total = sum(list_of_dists) # total\n",
    "    return total"
   ]
  },
  {
   "cell_type": "code",
   "execution_count": 97,
   "metadata": {},
   "outputs": [
    {
     "name": "stdout",
     "output_type": "stream",
     "text": [
      "19.7 µs ± 1.91 µs per loop (mean ± std. dev. of 7 runs, 10000 loops each)\n"
     ]
    }
   ],
   "source": [
    "%timeit total_path(d_matrix, permutation)"
   ]
  },
  {
   "cell_type": "code",
   "execution_count": 47,
   "metadata": {},
   "outputs": [
    {
     "data": {
      "text/plain": [
       "22205.617692710774"
      ]
     },
     "execution_count": 47,
     "metadata": {},
     "output_type": "execute_result"
    }
   ],
   "source": [
    "total_path(d_matrix, permutation) # it works"
   ]
  },
  {
   "cell_type": "markdown",
   "metadata": {},
   "source": [
    "## Algorithms"
   ]
  },
  {
   "cell_type": "markdown",
   "metadata": {},
   "source": [
    "### Genetic Algorithm"
   ]
  },
  {
   "cell_type": "markdown",
   "metadata": {},
   "source": [
    "As a first try, I like to start with the genetic algorithm, having very appreciated it during the explanatory lesson.\n",
    "\n",
    "However, reading the regarding literature, i do not expect it to be particularly fast.\n",
    "I tested it on a 20x5, 100x20 and 500x20 (it becomes quite slow on the last one)."
   ]
  },
  {
   "cell_type": "code",
   "execution_count": 28,
   "metadata": {},
   "outputs": [],
   "source": [
    "# %%cython\n",
    "\n",
    "# import pandas as pd\n",
    "# import numpy as np\n",
    "# import time\n",
    "# import copy\n",
    "# from numpy import zeros\n",
    "\n",
    "# cpdef calc_makespan( int [:] perm,int [:,:] times): #,m_seq):\n",
    "#     cdef int job_count = len(perm)\n",
    "#     cdef int machine_count =len(times[0])\n",
    "#     #makespan = [[0] * (machine_count + 1) for _ in range(0, job_count + 1)]\n",
    "#     cdef int[:,::1] makespan=zeros((job_count+1,machine_count+1), dtype='int32')\n",
    "#     #print(makespan)\n",
    "#     #for i, job in enumerate(perm):\n",
    "#     for i in range(job_count):\n",
    "#         #makespan[i][0]=0\n",
    "#         for machine in range(machine_count):\n",
    "#             makespan[i + 1][machine + 1] = max(makespan[i][machine + 1], makespan[i + 1][machine]) + times[perm[i]][machine]#times[job][machine]\n",
    "    \n",
    "#     return makespan[job_count][machine_count]\n",
    "\n",
    "\n",
    "# cpdef GA(int [:,:] df, \n",
    "#          int population_size = 5000, \n",
    "#          double crossover_rate = 1.,\n",
    "#          double mutation_p = 0.1,\n",
    "#          double mutation_gen_rate = 0.2,\n",
    "#          int n_iteration = 100\n",
    "#         ):\n",
    "    \n",
    "#     cdef int cities_count = len(df)\n",
    "#     cdef int n_mutations = round(cities_count*mutation_gen_rate)\n",
    "    \n",
    "#     #####################\n",
    "#     # create population #\n",
    "#     #####################\n",
    "    \n",
    "#     best_path = 1000000000\n",
    "#     best_list, best_obj = [],[]\n",
    "#     population = []\n",
    "    \n",
    "#     for i in range(population_size):\n",
    "        \n",
    "#         nxm_random_num = list(np.random.permutation(cities_count)) # generate a random permutation\n",
    "#         population.append(nxm_random_num) # insert in population\n",
    "\n",
    "#     for n in range(n_iteration):\n",
    "        \n",
    "#         curr_best_path = 1000000000           \n",
    "        \n",
    "#         #############\n",
    "#         # crossover #\n",
    "#         #############\n",
    "        \n",
    "#         parents = copy.deepcopy(population) #better use deecopy for dereferentiation/\n",
    "#         mut_list = copy.deepcopy(population)\n",
    "#         rand_seq = list(np.random.permutation(population_size)) # random sequence for the crossover\n",
    "\n",
    "#         for m in range(int(population_size/2)):\n",
    "            \n",
    "#             crossover_trhs = np.random.rand()\n",
    "            \n",
    "#             if crossover_rate >= crossover_trhs:\n",
    "            \n",
    "#                 p1 = population[rand_seq[2*m]][:]\n",
    "#                 p2 = population[rand_seq[2*m+1]][:]\n",
    "#                 first_child = ['na' for i in range(cities_count)] # check if there is a better way\n",
    "#                 second_child = ['na' for i in range(cities_count)]\n",
    "#                 c = round(cities_count/2)\n",
    "#                 swap_ind = list(np.random.choice(cities_count, c, replace=False))\n",
    "\n",
    "#                 for index in range(c):\n",
    "                \n",
    "#                     first_child[swap_ind[index]] = p2[swap_ind[index]]\n",
    "#                     second_child[swap_ind[index]] = p1[swap_ind[index]]\n",
    "                \n",
    "#                 c1 = [p1[i] for i in range(cities_count) if p1[i] not in first_child]\n",
    "#                 c2 = [p2[i] for i in range(cities_count) if p2[i] not in second_child]\n",
    "\n",
    "#                 for i in range(cities_count-c):\n",
    "                \n",
    "#                     first_child[first_child.index('na')] = c1[i]\n",
    "#                     second_child[second_child.index('na')] = c2[i]\n",
    "                \n",
    "#                 mut_list[rand_seq[2*m]] = first_child[:]\n",
    "#                 mut_list[rand_seq[2*m+1]] = second_child[:]\n",
    "        \n",
    "#         ############\n",
    "#         # mutation #\n",
    "#         ############\n",
    "        \n",
    "#         for m in range(len(mut_list)):\n",
    "            \n",
    "#             mut_thrs = np.random.rand()\n",
    "            \n",
    "#             if mutation_p >= mut_thrs:\n",
    "#                 # chooses the mutation pos.\n",
    "#                 swap_ind = list(np.random.choice(cities_count, n_mutations, replace=False)) \n",
    "#                 tmp_swap = mut_list[m][swap_ind[0]] \n",
    "                \n",
    "#                 for i in range(n_mutations-1):\n",
    "#                     mut_list[m][swap_ind[i]]=mut_list[m][swap_ind[i+1]] #shifting (might be ameliorated)\n",
    "\n",
    "#                 mut_list[m][swap_ind[n_mutations-1]] = tmp_swap \n",
    "\n",
    "#         #######################\n",
    "#         # fitness calculation #\n",
    "#         #######################\n",
    "        \n",
    "#         gene_fin = copy.deepcopy(parents) + copy.deepcopy(mut_list) #parent and mutated\n",
    "#         gene_fitness, gene_fit = [],[]\n",
    "#         fitness = 0\n",
    "#         pth = [0 for elem in range(2*population_size)]\n",
    "        \n",
    "#         for c in range(2*population_size):\n",
    "#             pth[c] = total_path(df, np.array(gene_fin[c], dtype=\"int32\"))\n",
    "#             gene_fitness.append(1/pth[c])\n",
    "#             gene_fit.append(pth[c])\n",
    "#             fitness+=gene_fitness[c]\n",
    "        \n",
    "#         #########################\n",
    "#         # individuals selection #\n",
    "#         #########################\n",
    "        \n",
    "#         ind_fit_list, cum_fit_list = [],[]\n",
    "\n",
    "#         for i in range(population_size*2):\n",
    "#             ind_fit_list.append(gene_fitness[i]/fitness)\n",
    "#         for i in range(population_size*2):\n",
    "#             cum_sum = 0\n",
    "#             for j in range(0,i+1):\n",
    "#                 cum_sum = cum_sum + ind_fit_list[j]\n",
    "#             cum_fit_list.append(cum_sum)\n",
    "\n",
    "#         rand_sel = [np.random.rand() for i in range(population_size)]\n",
    "\n",
    "#         for i in range(population_size):\n",
    "#             if rand_sel[i] <= cum_fit_list[0]:\n",
    "#                 population[i] = copy.deepcopy(gene_fin[0])\n",
    "#                 break\n",
    "#             else:\n",
    "#                 for j in range(0,population_size*2-1):\n",
    "#                     if rand_sel[i] > cum_fit_list[j] and rand_sel[i] <= cum_fit_list[j+1]:\n",
    "#                         population[i] = copy.deepcopy(gene_fin[j+1])\n",
    "        \n",
    "#         ##########################\n",
    "#         # updating best makespan #\n",
    "#         ##########################\n",
    "        \n",
    "#         for i in range(population_size*2):\n",
    "#             if gene_fit[i] < curr_best_path:\n",
    "#                 curr_best_path = gene_fit[i]\n",
    "#                 now_perm = copy.deepcopy(gene_fin[i])\n",
    "\n",
    "#         if curr_best_path <= best_path:\n",
    "#             best_path = curr_best_path\n",
    "#             best_perm = copy.deepcopy(now_perm)\n",
    "    \n",
    "    \n",
    "#     print(\"best permutation\",best_perm)\n",
    "#     print(\"best travel_time:%f\"%best_path)\n",
    "#     return best_perm,best_path"
   ]
  },
  {
   "cell_type": "code",
   "execution_count": 31,
   "metadata": {},
   "outputs": [],
   "source": [
    "def GA(df, \n",
    "        population_size = 5000, \n",
    "        crossover_rate = 1.,\n",
    "        mutation_p = 0.1,\n",
    "        mutation_gen_rate = 0.2,\n",
    "        n_iteration = 100\n",
    "        ):\n",
    "    \n",
    "    cities_count = len(df)\n",
    "    #n_mutations = round(cities_count*mutation_gen_rate)\n",
    "    n_mutations = 2\n",
    "    #####################\n",
    "    # create population #\n",
    "    #####################\n",
    "    \n",
    "    best_path = 1000000000\n",
    "    best_list, best_obj = [],[]\n",
    "    population = []\n",
    "    \n",
    "    for i in range(population_size):\n",
    "        \n",
    "        nxm_random_num = list(np.random.permutation(cities_count)) # generate a random permutation\n",
    "        population.append(nxm_random_num) # insert in population\n",
    "\n",
    "    for n in range(n_iteration):\n",
    "        \n",
    "        curr_best_path = 1000000000           \n",
    "        \n",
    "        #############\n",
    "        # crossover #\n",
    "        #############\n",
    "        \n",
    "        parents = copy.deepcopy(population) #better use deecopy for dereferentiation/\n",
    "        mut_list = copy.deepcopy(population)\n",
    "        rand_seq = list(np.random.permutation(population_size)) # random sequence for the crossover\n",
    "\n",
    "        for m in range(int(population_size/2)):\n",
    "            \n",
    "            crossover_trhs = np.random.rand()\n",
    "            \n",
    "            if crossover_rate >= crossover_trhs:\n",
    "            \n",
    "                p1 = population[rand_seq[2*m]][:]\n",
    "                p2 = population[rand_seq[2*m+1]][:]\n",
    "                first_child = ['na' for i in range(cities_count)] # check if there is a better way\n",
    "                second_child = ['na' for i in range(cities_count)]\n",
    "                c = round(cities_count/2)\n",
    "                swap_ind = list(np.random.choice(cities_count, c, replace=False))\n",
    "\n",
    "                for index in range(c):\n",
    "                \n",
    "                    first_child[swap_ind[index]] = p2[swap_ind[index]]\n",
    "                    second_child[swap_ind[index]] = p1[swap_ind[index]]\n",
    "                \n",
    "                c1 = [p1[i] for i in range(cities_count) if p1[i] not in first_child]\n",
    "                c2 = [p2[i] for i in range(cities_count) if p2[i] not in second_child]\n",
    "\n",
    "                for i in range(cities_count-c):\n",
    "                \n",
    "                    first_child[first_child.index('na')] = c1[i]\n",
    "                    second_child[second_child.index('na')] = c2[i]\n",
    "                \n",
    "                mut_list[rand_seq[2*m]] = first_child[:]\n",
    "                mut_list[rand_seq[2*m+1]] = second_child[:]\n",
    "        \n",
    "        ############\n",
    "        # mutation #\n",
    "        ############\n",
    "        \n",
    "        for m in range(len(mut_list)):\n",
    "            \n",
    "            mut_thrs = np.random.rand()\n",
    "            \n",
    "            if mutation_p >= mut_thrs:\n",
    "                # chooses the mutation pos.\n",
    "                swap_ind = list(np.random.choice(cities_count, n_mutations, replace=False)) \n",
    "                tmp_swap = mut_list[m][swap_ind[0]] \n",
    "                \n",
    "                for i in range(n_mutations-1):\n",
    "                    mut_list[m][swap_ind[i]]=mut_list[m][swap_ind[i+1]] #shifting (might be ameliorated)\n",
    "\n",
    "                mut_list[m][swap_ind[n_mutations-1]] = tmp_swap \n",
    "\n",
    "        #######################\n",
    "        # fitness calculation #\n",
    "        #######################\n",
    "        \n",
    "        gene_fin = copy.deepcopy(parents) + copy.deepcopy(mut_list) #parent and mutated\n",
    "        gene_fitness, gene_fit = [],[]\n",
    "        fitness = 0\n",
    "        pth = [0 for elem in range(2*population_size)]\n",
    "        \n",
    "        for c in range(2*population_size):\n",
    "            pth[c] = total_path(df, np.array(gene_fin[c], dtype=\"int32\"))\n",
    "            gene_fitness.append(1/pth[c])\n",
    "            gene_fit.append(pth[c])\n",
    "            fitness+=gene_fitness[c]\n",
    "        \n",
    "        #########################\n",
    "        # individuals selection #\n",
    "        #########################\n",
    "        \n",
    "        ind_fit_list, cum_fit_list = [],[]\n",
    "\n",
    "        for i in range(population_size*2):\n",
    "            ind_fit_list.append(gene_fitness[i]/fitness)\n",
    "        for i in range(population_size*2):\n",
    "            cum_sum = 0\n",
    "            for j in range(0,i+1):\n",
    "                cum_sum = cum_sum + ind_fit_list[j]\n",
    "            cum_fit_list.append(cum_sum)\n",
    "\n",
    "        rand_sel = [np.random.rand() for i in range(population_size)]\n",
    "\n",
    "        for i in range(population_size):\n",
    "            if rand_sel[i] <= cum_fit_list[0]:\n",
    "                population[i] = copy.deepcopy(gene_fin[0])\n",
    "                break\n",
    "            else:\n",
    "                for j in range(0,population_size*2-1):\n",
    "                    if rand_sel[i] > cum_fit_list[j] and rand_sel[i] <= cum_fit_list[j+1]:\n",
    "                        population[i] = copy.deepcopy(gene_fin[j+1])\n",
    "        \n",
    "        ##########################\n",
    "        # updating best makespan #\n",
    "        ##########################\n",
    "        \n",
    "        for i in range(population_size*2):\n",
    "            if gene_fit[i] < curr_best_path:\n",
    "                curr_best_path = gene_fit[i]\n",
    "                now_perm = copy.deepcopy(gene_fin[i])\n",
    "\n",
    "        if curr_best_path <= best_path:\n",
    "            best_path = curr_best_path\n",
    "            best_perm = copy.deepcopy(now_perm)\n",
    "    \n",
    "    \n",
    "    print(\"best permutation\",best_perm)\n",
    "    print(\"best travel_time:%f\"%best_path)\n",
    "    return best_perm,best_path"
   ]
  },
  {
   "cell_type": "markdown",
   "metadata": {},
   "source": [
    "Testing with the 20x5 matrix"
   ]
  },
  {
   "cell_type": "code",
   "execution_count": 53,
   "metadata": {},
   "outputs": [
    {
     "name": "stdout",
     "output_type": "stream",
     "text": [
      "best permutation [38, 47, 34, 50, 10, 48, 35, 32, 39, 42, 51, 9, 2, 5, 4, 19, 21, 33, 29, 6, 22, 49, 25, 46, 13, 27, 3, 1, 16, 36, 37, 14, 12, 26, 43, 31, 30, 41, 28, 11, 45, 24, 15, 7, 44, 40, 17, 18, 23, 20, 0, 8]\n",
      "best travel_time:22752.932448\n"
     ]
    }
   ],
   "source": [
    "first = GA(d_matrix,\n",
    "           population_size = 100,\n",
    "           crossover_rate = 0.7,\n",
    "           mutation_p = 0.2,\n",
    "           mutation_gen_rate = 0.1,\n",
    "           n_iteration = 1000)"
   ]
  },
  {
   "cell_type": "code",
   "execution_count": 32,
   "metadata": {},
   "outputs": [
    {
     "name": "stdout",
     "output_type": "stream",
     "text": [
      "best permutation [28, 2, 5, 25, 8, 4, 11, 20, 27, 0, 22, 15, 9, 1, 7, 26, 23, 14, 12, 19, 16, 13, 10, 6, 24, 17, 21, 3, 18]\n",
      "best travel_time:3558.000000\n"
     ]
    }
   ],
   "source": [
    "first = GA(d_matrix,\n",
    "           population_size = 100,\n",
    "           crossover_rate = 0.7,\n",
    "           mutation_p = 0.2,\n",
    "           mutation_gen_rate = 0.1,\n",
    "           n_iteration = 1000)"
   ]
  },
  {
   "cell_type": "code",
   "execution_count": 51,
   "metadata": {},
   "outputs": [],
   "source": [
    "permutation = [\n",
    "    1,\n",
    "49,\n",
    "32,\n",
    "45,\n",
    "19,\n",
    "41,\n",
    "8,\n",
    "9,\n",
    "10,\n",
    "43,\n",
    "33,\n",
    "51,\n",
    "11,\n",
    "52,\n",
    "14,\n",
    "13,\n",
    "47,\n",
    "26,\n",
    "27,\n",
    "28,\n",
    "12,\n",
    "25,\n",
    "4,\n",
    "6,\n",
    "15,\n",
    "5,\n",
    "24,\n",
    "48,\n",
    "38,\n",
    "37,\n",
    "40,\n",
    "39,\n",
    "36,\n",
    "35,\n",
    "34,\n",
    "44,\n",
    "46,\n",
    "16,\n",
    "29,\n",
    "50,\n",
    "20,\n",
    "23,\n",
    "30,\n",
    "2,\n",
    "7,\n",
    "42,\n",
    "21,\n",
    "17,\n",
    "3,\n",
    "18,\n",
    "31,\n",
    "22,\n",
    "]\n",
    "permutation = [number -1 for number in permutation]"
   ]
  },
  {
   "cell_type": "code",
   "execution_count": 52,
   "metadata": {},
   "outputs": [
    {
     "data": {
      "text/plain": [
       "7544.365901904087"
      ]
     },
     "execution_count": 52,
     "metadata": {},
     "output_type": "execute_result"
    }
   ],
   "source": [
    "total_path(d_matrix, permutation)"
   ]
  },
  {
   "cell_type": "markdown",
   "metadata": {},
   "source": [
    "## Another GA Algorithm"
   ]
  },
  {
   "cell_type": "code",
   "execution_count": 78,
   "metadata": {},
   "outputs": [
    {
     "data": {
      "text/plain": [
       "29"
      ]
     },
     "execution_count": 78,
     "metadata": {},
     "output_type": "execute_result"
    }
   ],
   "source": [
    "df = pd.read_csv(\"bays29.tsp\", header=None, sep = \" \")\n",
    "df.drop(0, axis = 1, inplace = True)\n",
    "df.head()\n",
    "d_matrix = np.array(df)\n",
    "d_matrix = np.reshape(d_matrix, (len(df),len(df)))\n",
    "# d_matrix\n",
    "permutation = list(range(0,len(df))) #define  a fake permutation\n",
    "len(permutation)"
   ]
  },
  {
   "cell_type": "code",
   "execution_count": 79,
   "metadata": {},
   "outputs": [],
   "source": [
    "def total_path(dist_matrix, permutation): # also here, maybe there are 1k ways to do this better but...\n",
    "    total = 0\n",
    "    for x,y in zip(permutation, permutation[1:]): # take the element of the permutation 2 by 2 -> 0,1 - 1,2 - 2,3 ect..\n",
    "        total += dist_matrix[x, y]\n",
    "    total += dist_matrix[permutation[-1], permutation[0]]\n",
    "    return total"
   ]
  },
  {
   "cell_type": "code",
   "execution_count": 80,
   "metadata": {},
   "outputs": [
    {
     "data": {
      "text/plain": [
       "0.00017385257301808066"
      ]
     },
     "execution_count": 80,
     "metadata": {},
     "output_type": "execute_result"
    }
   ],
   "source": [
    "def tpsFitness(dist_matrix, permutation):\n",
    "       return 1/total_path(dist_matrix, permutation)\n",
    "    \n",
    "tpsFitness(d_matrix, permutation)"
   ]
  },
  {
   "cell_type": "code",
   "execution_count": 81,
   "metadata": {},
   "outputs": [],
   "source": [
    "nCities = len(d_matrix)\n",
    "def generateRandomRoute():\n",
    "    vet = list(range(nCities))\n",
    "    return np.random.permutation(vet)"
   ]
  },
  {
   "cell_type": "code",
   "execution_count": 69,
   "metadata": {},
   "outputs": [
    {
     "data": {
      "text/plain": [
       "52"
      ]
     },
     "execution_count": 69,
     "metadata": {},
     "output_type": "execute_result"
    }
   ],
   "source": [
    "def generateRandomPopulation(popSize):\n",
    "    np.transpose(rep(generateRandomRoute(),5))"
   ]
  },
  {
   "cell_type": "code",
   "execution_count": 83,
   "metadata": {},
   "outputs": [
    {
     "data": {
      "text/plain": [
       "array([ 1,  1,  1,  1,  1,  7,  7,  7,  7,  7,  4,  4,  4,  4,  4, 18, 18,\n",
       "       18, 18, 18,  3,  3,  3,  3,  3, 14, 14, 14, 14, 14,  5,  5,  5,  5,\n",
       "        5,  0,  0,  0,  0,  0, 19, 19, 19, 19, 19, 21, 21, 21, 21, 21,  6,\n",
       "        6,  6,  6,  6, 13, 13, 13, 13, 13, 24, 24, 24, 24, 24, 12, 12, 12,\n",
       "       12, 12, 26, 26, 26, 26, 26,  9,  9,  9,  9,  9, 27, 27, 27, 27, 27,\n",
       "       17, 17, 17, 17, 17, 28, 28, 28, 28, 28, 22, 22, 22, 22, 22, 20, 20,\n",
       "       20, 20, 20,  2,  2,  2,  2,  2, 25, 25, 25, 25, 25, 10, 10, 10, 10,\n",
       "       10, 16, 16, 16, 16, 16,  8,  8,  8,  8,  8, 15, 15, 15, 15, 15, 11,\n",
       "       11, 11, 11, 11, 23, 23, 23, 23, 23])"
      ]
     },
     "execution_count": 83,
     "metadata": {},
     "output_type": "execute_result"
    }
   ],
   "source": [
    "np.transpose(np.repeat(generateRandomRoute(), 5))"
   ]
  },
  {
   "cell_type": "markdown",
   "metadata": {},
   "source": [
    "############################################################"
   ]
  },
  {
   "cell_type": "code",
   "execution_count": 12,
   "metadata": {},
   "outputs": [
    {
     "name": "stdout",
     "output_type": "stream",
     "text": [
      "best permutation [14, 8, 18, 5, 13, 2, 1, 0, 6, 7, 15, 3, 4, 17, 11, 16, 10, 12, 9, 19]\n",
      "best makespan:1306.000000\n"
     ]
    },
    {
     "data": {
      "text/plain": [
       "([14, 8, 18, 5, 13, 2, 1, 0, 6, 7, 15, 3, 4, 17, 11, 16, 10, 12, 9, 19], 1306)"
      ]
     },
     "execution_count": 12,
     "metadata": {},
     "output_type": "execute_result"
    }
   ],
   "source": [
    "GA(m, n_iteration=1)"
   ]
  },
  {
   "cell_type": "code",
   "execution_count": 41,
   "metadata": {},
   "outputs": [
    {
     "name": "stdout",
     "output_type": "stream",
     "text": [
      "best permutation [0, 7, 16, 1, 5, 15, 8, 12, 13, 3, 2, 14, 18, 11, 4, 17, 10, 9, 6, 19]\n",
      "best makespan:1322.000000\n"
     ]
    },
    {
     "data": {
      "text/plain": [
       "([0, 7, 16, 1, 5, 15, 8, 12, 13, 3, 2, 14, 18, 11, 4, 17, 10, 9, 6, 19], 1322)"
      ]
     },
     "execution_count": 41,
     "metadata": {},
     "output_type": "execute_result"
    }
   ],
   "source": [
    "GA(m, n_iteration=10)"
   ]
  },
  {
   "cell_type": "markdown",
   "metadata": {},
   "source": [
    "As we anticipated, the performances seems not to be so great.\n",
    "\n",
    "After reading some literature, I tried some parameters tuning (as indicated e.g. in \"Khan, Bazul & Govindan, Kannan & Jeyapaul, R. (2010 IJAOM).\n",
    "\n",
    "However, the results did not change so much, so that after comparing with the python library \"pyeasyga\", whose algorithm results were similar to those obtained previously, i tried out other algorithm."
   ]
  },
  {
   "cell_type": "code",
   "execution_count": 27,
   "metadata": {},
   "outputs": [],
   "source": [
    "import random\n",
    "from pyeasyga import pyeasyga\n",
    "\n",
    "# setup seed data\n",
    "data=list(range(no_of_jobs))\n",
    "\n",
    "# initialise the GA\n",
    "ga = pyeasyga.GeneticAlgorithm(seq.tolist(),\n",
    "                            population_size=200,\n",
    "                            generations=100,\n",
    "                            crossover_probability=0.8,\n",
    "                            mutation_probability=0.1,\n",
    "                            elitism=True,\n",
    "                            maximise_fitness=True)\n",
    "\n",
    "# define and set function to create a candidate solution representation\n",
    "def create_individual(data):\n",
    "    individual = data[:]\n",
    "    random.shuffle(individual)\n",
    "    return individual\n",
    "\n",
    "ga.create_individual = create_individual\n",
    "\n",
    "# define and set the GA's crossover operation\n",
    "def crossover(parent_1, parent_2):\n",
    "    crossover_index = random.randrange(1, len(parent_1))\n",
    "    child_1a = parent_1[:crossover_index]\n",
    "    child_1b = [i for i in parent_2 if i not in child_1a]\n",
    "    child_1 = child_1a + child_1b\n",
    "\n",
    "    child_2a = parent_2[crossover_index:]\n",
    "    child_2b = [i for i in parent_1 if i not in child_2a]\n",
    "    child_2 = child_2a + child_2b\n",
    "    \n",
    "    return child_1, child_2\n",
    "\n",
    "ga.crossover_function = crossover\n",
    "\n",
    "# define and set the GA's mutation operation\n",
    "def mutate(individual):\n",
    "    mutate_index1 = random.randrange(len(individual))\n",
    "    mutate_index2 = random.randrange(len(individual))\n",
    "    individual[mutate_index1], individual[mutate_index2] = individual[mutate_index2], individual[mutate_index1]\n",
    "\n",
    "ga.mutate_function = mutate\n",
    "\n",
    "# define and set the GA's selection operation\n",
    "def selection(population):\n",
    "    #print(population)\n",
    "    \n",
    "    return random.choice(population)\n",
    "\n",
    "ga.selection_function = selection\n",
    "\n",
    "# define a fitness function\n",
    "def fitness (individual, data):\n",
    "    fitness=0\n",
    "    v=calc_makespan(np.array(individual, dtype=\"int32\"), m)\n",
    "    fitness+= 1/v\n",
    "    return fitness\n",
    "ga.fitness_function = fitness       # set the GA's fitness function"
   ]
  },
  {
   "cell_type": "code",
   "execution_count": 25,
   "metadata": {},
   "outputs": [],
   "source": [
    "ga.run()                            # run the GA"
   ]
  },
  {
   "cell_type": "code",
   "execution_count": 30,
   "metadata": {},
   "outputs": [
    {
     "data": {
      "text/plain": [
       "(1297, [16, 14, 2, 18, 12, 10, 13, 15, 0, 17, 8, 5, 6, 1, 3, 4, 7, 11, 9, 19])"
      ]
     },
     "execution_count": 30,
     "metadata": {},
     "output_type": "execute_result"
    }
   ],
   "source": [
    "fit, sel_perm = ga.best_individual()\n",
    "calc_makespan(np.array(sel_perm, dtype=\"int32\"), m), sel_perm"
   ]
  },
  {
   "cell_type": "markdown",
   "metadata": {},
   "source": [
    "Which is not an horrible result, but it can be explained by the few iterations done (not having some great computational power), and probably by the not-optimal choice of the algorithm parameters  "
   ]
  }
 ],
 "metadata": {
  "kernelspec": {
   "display_name": "Python 3",
   "language": "python",
   "name": "python3"
  },
  "language_info": {
   "codemirror_mode": {
    "name": "ipython",
    "version": 3
   },
   "file_extension": ".py",
   "mimetype": "text/x-python",
   "name": "python",
   "nbconvert_exporter": "python",
   "pygments_lexer": "ipython3",
   "version": "3.6.4"
  }
 },
 "nbformat": 4,
 "nbformat_minor": 2
}
